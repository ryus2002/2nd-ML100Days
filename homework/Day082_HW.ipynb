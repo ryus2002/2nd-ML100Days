{
 "cells": [
  {
   "cell_type": "markdown",
   "metadata": {},
   "source": [
    "## Work\n",
    "1. 請比較使用不同層數以及不同 Dropout rate 對訓練的效果\n",
    "2. 將 optimizer 改成使用 Adam 並加上適當的 dropout rate 檢視結果"
   ]
  },
  {
   "cell_type": "code",
   "execution_count": 1,
   "metadata": {},
   "outputs": [
    {
     "name": "stderr",
     "output_type": "stream",
     "text": [
      "Using TensorFlow backend.\n"
     ]
    }
   ],
   "source": [
    "import os\n",
    "import keras\n",
    "import itertools\n",
    "# Disable GPU\n",
    "os.environ[\"CUDA_VISIBLE_DEVICES\"] = \"0\""
   ]
  },
  {
   "cell_type": "code",
   "execution_count": 2,
   "metadata": {},
   "outputs": [],
   "source": [
    "train, test = keras.datasets.cifar10.load_data()"
   ]
  },
  {
   "cell_type": "code",
   "execution_count": 3,
   "metadata": {},
   "outputs": [],
   "source": [
    "## 資料前處理\n",
    "def preproc_x(x, flatten=True):\n",
    "    x = x / 255.\n",
    "    if flatten:\n",
    "        x = x.reshape((len(x), -1))\n",
    "    return x\n",
    "\n",
    "def preproc_y(y, num_classes=10):\n",
    "    if y.shape[-1] == 1:\n",
    "        y = keras.utils.to_categorical(y, num_classes)\n",
    "    return y    "
   ]
  },
  {
   "cell_type": "code",
   "execution_count": 4,
   "metadata": {},
   "outputs": [],
   "source": [
    "x_train, y_train = train\n",
    "x_test, y_test = test\n",
    "\n",
    "# Preproc the inputs\n",
    "x_train = preproc_x(x_train)\n",
    "x_test = preproc_x(x_test)\n",
    "\n",
    "# Preprc the outputs\n",
    "y_train = preproc_y(y_train)\n",
    "y_test = preproc_y(y_test)"
   ]
  },
  {
   "cell_type": "code",
   "execution_count": 5,
   "metadata": {},
   "outputs": [],
   "source": [
    "from keras.layers import Dropout\n",
    "\n",
    "\"\"\"\n",
    "建立神經網路，並加入 dropout layer\n",
    "\"\"\"\n",
    "def build_mlp(input_shape, output_units=10, num_neurons=[512, 256, 128], drp_ratio=0.2):\n",
    "    input_layer = keras.layers.Input(input_shape)\n",
    "    \n",
    "    for i, n_units in enumerate(num_neurons):\n",
    "        if i == 0:\n",
    "            x = keras.layers.Dense(units=n_units, \n",
    "                                   activation=\"relu\", \n",
    "                                   name=\"hidden_layer\"+str(i+1))(input_layer)\n",
    "            x = Dropout(drp_ratio)(x)\n",
    "        else:\n",
    "            x = keras.layers.Dense(units=n_units, \n",
    "                                   activation=\"relu\", \n",
    "                                   name=\"hidden_layer\"+str(i+1))(x)\n",
    "            x = Dropout(drp_ratio)(x)\n",
    "    \n",
    "    out = keras.layers.Dense(units=output_units, activation=\"softmax\", name=\"output\")(x)\n",
    "    \n",
    "    model = keras.models.Model(inputs=[input_layer], outputs=[out])\n",
    "    return model"
   ]
  },
  {
   "cell_type": "code",
   "execution_count": 6,
   "metadata": {},
   "outputs": [],
   "source": [
    "## 超參數設定\n",
    "LEARNING_RATE = 1e-3\n",
    "EPOCHS = 50\n",
    "BATCH_SIZE = 256\n",
    "MOMENTUM = 0.95\n",
    "Dropout_EXP = 0.25"
   ]
  },
  {
   "cell_type": "code",
   "execution_count": 7,
   "metadata": {},
   "outputs": [
    {
     "name": "stderr",
     "output_type": "stream",
     "text": [
      "WARNING: Logging before flag parsing goes to stderr.\n",
      "W0730 09:36:13.179676  7000 deprecation_wrapper.py:119] From C:\\Users\\user\\Anaconda3\\lib\\site-packages\\keras\\backend\\tensorflow_backend.py:74: The name tf.get_default_graph is deprecated. Please use tf.compat.v1.get_default_graph instead.\n",
      "\n",
      "W0730 09:36:13.883996  7000 deprecation_wrapper.py:119] From C:\\Users\\user\\Anaconda3\\lib\\site-packages\\keras\\backend\\tensorflow_backend.py:517: The name tf.placeholder is deprecated. Please use tf.compat.v1.placeholder instead.\n",
      "\n",
      "W0730 09:36:13.941971  7000 deprecation_wrapper.py:119] From C:\\Users\\user\\Anaconda3\\lib\\site-packages\\keras\\backend\\tensorflow_backend.py:4138: The name tf.random_uniform is deprecated. Please use tf.random.uniform instead.\n",
      "\n",
      "W0730 09:36:14.048560  7000 deprecation_wrapper.py:119] From C:\\Users\\user\\Anaconda3\\lib\\site-packages\\keras\\backend\\tensorflow_backend.py:133: The name tf.placeholder_with_default is deprecated. Please use tf.compat.v1.placeholder_with_default instead.\n",
      "\n",
      "W0730 09:36:14.065296  7000 deprecation.py:506] From C:\\Users\\user\\Anaconda3\\lib\\site-packages\\keras\\backend\\tensorflow_backend.py:3445: calling dropout (from tensorflow.python.ops.nn_ops) with keep_prob is deprecated and will be removed in a future version.\n",
      "Instructions for updating:\n",
      "Please use `rate` instead of `keep_prob`. Rate should be set to `rate = 1 - keep_prob`.\n",
      "W0730 09:36:14.233793  7000 deprecation_wrapper.py:119] From C:\\Users\\user\\Anaconda3\\lib\\site-packages\\keras\\optimizers.py:790: The name tf.train.Optimizer is deprecated. Please use tf.compat.v1.train.Optimizer instead.\n",
      "\n",
      "W0730 09:36:14.239805  7000 deprecation_wrapper.py:119] From C:\\Users\\user\\Anaconda3\\lib\\site-packages\\keras\\backend\\tensorflow_backend.py:3295: The name tf.log is deprecated. Please use tf.math.log instead.\n",
      "\n"
     ]
    },
    {
     "name": "stdout",
     "output_type": "stream",
     "text": [
      "_________________________________________________________________\n",
      "Layer (type)                 Output Shape              Param #   \n",
      "=================================================================\n",
      "input_1 (InputLayer)         (None, 3072)              0         \n",
      "_________________________________________________________________\n",
      "hidden_layer1 (Dense)        (None, 512)               1573376   \n",
      "_________________________________________________________________\n",
      "dropout_1 (Dropout)          (None, 512)               0         \n",
      "_________________________________________________________________\n",
      "hidden_layer2 (Dense)        (None, 256)               131328    \n",
      "_________________________________________________________________\n",
      "dropout_2 (Dropout)          (None, 256)               0         \n",
      "_________________________________________________________________\n",
      "hidden_layer3 (Dense)        (None, 128)               32896     \n",
      "_________________________________________________________________\n",
      "dropout_3 (Dropout)          (None, 128)               0         \n",
      "_________________________________________________________________\n",
      "output (Dense)               (None, 10)                1290      \n",
      "=================================================================\n",
      "Total params: 1,738,890\n",
      "Trainable params: 1,738,890\n",
      "Non-trainable params: 0\n",
      "_________________________________________________________________\n"
     ]
    },
    {
     "name": "stderr",
     "output_type": "stream",
     "text": [
      "W0730 09:36:14.554320  7000 deprecation.py:323] From C:\\Users\\user\\Anaconda3\\lib\\site-packages\\tensorflow\\python\\ops\\math_grad.py:1250: add_dispatch_support.<locals>.wrapper (from tensorflow.python.ops.array_ops) is deprecated and will be removed in a future version.\n",
      "Instructions for updating:\n",
      "Use tf.where in 2.0, which has the same broadcast rule as np.where\n"
     ]
    },
    {
     "name": "stdout",
     "output_type": "stream",
     "text": [
      "Train on 50000 samples, validate on 10000 samples\n",
      "Epoch 1/50\n",
      "50000/50000 [==============================] - 10s 202us/step - loss: 2.0548 - acc: 0.2429 - val_loss: 1.8614 - val_acc: 0.3262\n",
      "Epoch 2/50\n",
      "50000/50000 [==============================] - 9s 170us/step - loss: 1.8775 - acc: 0.3180 - val_loss: 1.7355 - val_acc: 0.3845\n",
      "Epoch 3/50\n",
      "50000/50000 [==============================] - 8s 169us/step - loss: 1.8241 - acc: 0.3348 - val_loss: 1.6981 - val_acc: 0.3905\n",
      "Epoch 4/50\n",
      "50000/50000 [==============================] - 9s 171us/step - loss: 1.7815 - acc: 0.3563 - val_loss: 1.6709 - val_acc: 0.4044 - loss: 1\n",
      "Epoch 5/50\n",
      "50000/50000 [==============================] - 10s 197us/step - loss: 1.7611 - acc: 0.3589 - val_loss: 1.6658 - val_acc: 0.4030\n",
      "Epoch 6/50\n",
      "50000/50000 [==============================] - 9s 180us/step - loss: 1.7248 - acc: 0.3743 - val_loss: 1.6465 - val_acc: 0.4248\n",
      "Epoch 7/50\n",
      "50000/50000 [==============================] - 10s 203us/step - loss: 1.7105 - acc: 0.3795 - val_loss: 1.6200 - val_acc: 0.4232\n",
      "Epoch 8/50\n",
      "50000/50000 [==============================] - 8s 166us/step - loss: 1.7065 - acc: 0.3815 - val_loss: 1.6210 - val_acc: 0.4188\n",
      "Epoch 9/50\n",
      "50000/50000 [==============================] - 8s 168us/step - loss: 1.6901 - acc: 0.3870 - val_loss: 1.6169 - val_acc: 0.4227\n",
      "Epoch 10/50\n",
      "50000/50000 [==============================] - 8s 160us/step - loss: 1.6766 - acc: 0.3943 - val_loss: 1.5988 - val_acc: 0.4381\n",
      "Epoch 11/50\n",
      "50000/50000 [==============================] - 8s 169us/step - loss: 1.6620 - acc: 0.3987 - val_loss: 1.5813 - val_acc: 0.4429\n",
      "Epoch 12/50\n",
      "50000/50000 [==============================] - 9s 176us/step - loss: 1.6534 - acc: 0.4014 - val_loss: 1.6121 - val_acc: 0.4297\n",
      "Epoch 13/50\n",
      "50000/50000 [==============================] - 10s 192us/step - loss: 1.6409 - acc: 0.4069 - val_loss: 1.5852 - val_acc: 0.4433\n",
      "Epoch 14/50\n",
      "50000/50000 [==============================] - 9s 190us/step - loss: 1.6386 - acc: 0.4072 - val_loss: 1.5686 - val_acc: 0.4478\n",
      "Epoch 15/50\n",
      "50000/50000 [==============================] - 9s 176us/step - loss: 1.6321 - acc: 0.4123 - val_loss: 1.5454 - val_acc: 0.4513\n",
      "Epoch 16/50\n",
      "50000/50000 [==============================] - 8s 165us/step - loss: 1.6221 - acc: 0.4145 - val_loss: 1.5548 - val_acc: 0.4449\n",
      "Epoch 17/50\n",
      "50000/50000 [==============================] - 9s 189us/step - loss: 1.6114 - acc: 0.4188 - val_loss: 1.5941 - val_acc: 0.4346\n",
      "Epoch 18/50\n",
      "50000/50000 [==============================] - 9s 181us/step - loss: 1.6086 - acc: 0.4211 - val_loss: 1.5419 - val_acc: 0.4542\n",
      "Epoch 19/50\n",
      "50000/50000 [==============================] - 8s 168us/step - loss: 1.5991 - acc: 0.4229 - val_loss: 1.5394 - val_acc: 0.4540\n",
      "Epoch 20/50\n",
      "50000/50000 [==============================] - 9s 170us/step - loss: 1.5949 - acc: 0.4245 - val_loss: 1.5317 - val_acc: 0.4597\n",
      "Epoch 21/50\n",
      "50000/50000 [==============================] - 8s 166us/step - loss: 1.5920 - acc: 0.4259 - val_loss: 1.5393 - val_acc: 0.4594\n",
      "Epoch 22/50\n",
      "50000/50000 [==============================] - 9s 182us/step - loss: 1.5810 - acc: 0.4291 - val_loss: 1.5197 - val_acc: 0.4645\n",
      "Epoch 23/50\n",
      "50000/50000 [==============================] - 8s 166us/step - loss: 1.5735 - acc: 0.4344 - val_loss: 1.5282 - val_acc: 0.4579\n",
      "Epoch 24/50\n",
      "50000/50000 [==============================] - 8s 169us/step - loss: 1.5779 - acc: 0.4318 - val_loss: 1.5192 - val_acc: 0.4651\n",
      "Epoch 25/50\n",
      "50000/50000 [==============================] - 9s 171us/step - loss: 1.5710 - acc: 0.4352 - val_loss: 1.5238 - val_acc: 0.4665\n",
      "Epoch 26/50\n",
      "50000/50000 [==============================] - 8s 168us/step - loss: 1.5760 - acc: 0.4317 - val_loss: 1.5145 - val_acc: 0.4545\n",
      "Epoch 27/50\n",
      "50000/50000 [==============================] - 8s 167us/step - loss: 1.5688 - acc: 0.4358 - val_loss: 1.5733 - val_acc: 0.4509\n",
      "Epoch 28/50\n",
      "50000/50000 [==============================] - 9s 174us/step - loss: 1.5604 - acc: 0.4377 - val_loss: 1.5023 - val_acc: 0.4706\n",
      "Epoch 29/50\n",
      "50000/50000 [==============================] - 8s 165us/step - loss: 1.5527 - acc: 0.4415 - val_loss: 1.4873 - val_acc: 0.4753\n",
      "Epoch 30/50\n",
      "50000/50000 [==============================] - 8s 168us/step - loss: 1.5520 - acc: 0.4430 - val_loss: 1.4920 - val_acc: 0.4707\n",
      "Epoch 31/50\n",
      "50000/50000 [==============================] - 9s 175us/step - loss: 1.5408 - acc: 0.4454 - val_loss: 1.4965 - val_acc: 0.4679\n",
      "Epoch 32/50\n",
      "50000/50000 [==============================] - 80s 2ms/step - loss: 1.5439 - acc: 0.4447 - val_loss: 1.5122 - val_acc: 0.4675\n",
      "Epoch 33/50\n",
      "50000/50000 [==============================] - 8s 162us/step - loss: 1.5495 - acc: 0.4408 - val_loss: 1.4988 - val_acc: 0.4743\n",
      "Epoch 34/50\n",
      "50000/50000 [==============================] - 8s 156us/step - loss: 1.5302 - acc: 0.4499 - val_loss: 1.4912 - val_acc: 0.4577\n",
      "Epoch 35/50\n",
      "50000/50000 [==============================] - 8s 163us/step - loss: 1.5351 - acc: 0.4466 - val_loss: 1.4824 - val_acc: 0.4740\n",
      "Epoch 36/50\n",
      "50000/50000 [==============================] - 8s 163us/step - loss: 1.5286 - acc: 0.4491 - val_loss: 1.5229 - val_acc: 0.4575\n",
      "Epoch 37/50\n",
      "50000/50000 [==============================] - 8s 160us/step - loss: 1.5308 - acc: 0.4492 - val_loss: 1.4797 - val_acc: 0.4779\n",
      "Epoch 38/50\n",
      "50000/50000 [==============================] - 9s 186us/step - loss: 1.5293 - acc: 0.4470 - val_loss: 1.4991 - val_acc: 0.4711\n",
      "Epoch 39/50\n",
      "50000/50000 [==============================] - 14s 270us/step - loss: 1.5167 - acc: 0.4536 - val_loss: 1.4970 - val_acc: 0.4711\n",
      "Epoch 40/50\n",
      "50000/50000 [==============================] - 13s 265us/step - loss: 1.5198 - acc: 0.4544 - val_loss: 1.4651 - val_acc: 0.4827\n",
      "Epoch 41/50\n",
      "50000/50000 [==============================] - 14s 284us/step - loss: 1.5164 - acc: 0.4551 - val_loss: 1.4749 - val_acc: 0.4774\n",
      "Epoch 42/50\n",
      "50000/50000 [==============================] - 15s 290us/step - loss: 1.5213 - acc: 0.4535 - val_loss: 1.4805 - val_acc: 0.4762\n",
      "Epoch 43/50\n",
      "50000/50000 [==============================] - 11s 219us/step - loss: 1.5094 - acc: 0.4533 - val_loss: 1.4637 - val_acc: 0.4818\n",
      "Epoch 44/50\n",
      "50000/50000 [==============================] - 15s 306us/step - loss: 1.5090 - acc: 0.4593 - val_loss: 1.4684 - val_acc: 0.4751\n",
      "Epoch 45/50\n",
      "50000/50000 [==============================] - 15s 301us/step - loss: 1.5163 - acc: 0.4533 - val_loss: 1.4692 - val_acc: 0.4715\n",
      "Epoch 46/50\n",
      "50000/50000 [==============================] - 17s 335us/step - loss: 1.5040 - acc: 0.4569 - val_loss: 1.4633 - val_acc: 0.4756\n",
      "Epoch 47/50\n",
      "50000/50000 [==============================] - 15s 310us/step - loss: 1.5064 - acc: 0.4596 - val_loss: 1.4690 - val_acc: 0.4718\n",
      "Epoch 48/50\n",
      "50000/50000 [==============================] - 15s 307us/step - loss: 1.4936 - acc: 0.4616 - val_loss: 1.4682 - val_acc: 0.4775\n",
      "Epoch 49/50\n",
      "50000/50000 [==============================] - 10s 209us/step - loss: 1.4997 - acc: 0.4605 - val_loss: 1.4569 - val_acc: 0.4888\n",
      "Epoch 50/50\n",
      "50000/50000 [==============================] - 16s 329us/step - loss: 1.4900 - acc: 0.4635 - val_loss: 1.4655 - val_acc: 0.4865\n"
     ]
    }
   ],
   "source": [
    "model = build_mlp(input_shape=x_train.shape[1:], drp_ratio=Dropout_EXP)\n",
    "model.summary()\n",
    "optimizer = keras.optimizers.Adam(lr=LEARNING_RATE)\n",
    "model.compile(loss=\"categorical_crossentropy\", metrics=[\"accuracy\"], optimizer=optimizer)\n",
    "\n",
    "model.fit(x_train, y_train, \n",
    "          epochs=EPOCHS, \n",
    "          batch_size=BATCH_SIZE, \n",
    "          validation_data=(x_test, y_test), \n",
    "          shuffle=True)\n",
    "\n",
    "# Collect results\n",
    "train_loss = model.history.history[\"loss\"]\n",
    "valid_loss = model.history.history[\"val_loss\"]\n",
    "train_acc = model.history.history[\"acc\"]\n",
    "valid_acc = model.history.history[\"val_acc\"]"
   ]
  },
  {
   "cell_type": "code",
   "execution_count": 8,
   "metadata": {},
   "outputs": [
    {
     "data": {
      "image/png": "[encoded data removed]",
      "text/plain": [
       "<Figure size 432x288 with 1 Axes>"
      ]
     },
     "metadata": {
      "needs_background": "light"
     },
     "output_type": "display_data"
    },
    {
     "data": {
      "image/png": "[encoded data removed]",
      "text/plain": [
       "<Figure size 432x288 with 1 Axes>"
      ]
     },
     "metadata": {
      "needs_background": "light"
     },
     "output_type": "display_data"
    }
   ],
   "source": [
    "import matplotlib.pyplot as plt\n",
    "%matplotlib inline\n",
    "\n",
    "plt.plot(range(len(train_loss)), train_loss, label=\"train loss\")\n",
    "plt.plot(range(len(valid_loss)), valid_loss, label=\"valid loss\")\n",
    "plt.legend()\n",
    "plt.title(\"Loss\")\n",
    "plt.show()\n",
    "\n",
    "plt.plot(range(len(train_acc)), train_acc, label=\"train accuracy\")\n",
    "plt.plot(range(len(valid_acc)), valid_acc, label=\"valid accuracy\")\n",
    "plt.legend()\n",
    "plt.title(\"Accuracy\")\n",
    "plt.show()"
   ]
  }
 ],
 "metadata": {
  "kernelspec": {
   "display_name": "Python 3",
   "language": "python",
   "name": "python3"
  },
  "language_info": {
   "codemirror_mode": {
    "name": "ipython",
    "version": 3
   },
   "file_extension": ".py",
   "mimetype": "text/x-python",
   "name": "python",
   "nbconvert_exporter": "python",
   "pygments_lexer": "ipython3",
   "version": "3.7.3"
  }
 },
 "nbformat": 4,
 "nbformat_minor": 2
}
