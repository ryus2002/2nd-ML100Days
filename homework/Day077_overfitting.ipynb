{
 "cells": [
  {
   "cell_type": "markdown",
   "metadata": {},
   "source": [
    "## 範例重點\n",
    "* 學會從 Keras 內建函式取得資料\n",
    "* 能夠建立簡易的深度學習模型\n",
    "* 觀察並了解 Overfit 現象"
   ]
  },
  {
   "cell_type": "code",
   "execution_count": 1,
   "metadata": {},
   "outputs": [
    {
     "name": "stderr",
     "output_type": "stream",
     "text": [
      "Using TensorFlow backend.\n"
     ]
    }
   ],
   "source": [
    "import os\n",
    "import keras\n",
    "\n",
    "# 本範例不需使用 GPU, 將 GPU 設定為 \"無\"\n",
    "os.environ[\"CUDA_VISIBLE_DEVICES\"] = \"\""
   ]
  },
  {
   "cell_type": "code",
   "execution_count": 2,
   "metadata": {},
   "outputs": [],
   "source": [
    "# 從 Keras 的內建功能中，取得 train 與 test 資料集\n",
    "train, test = keras.datasets.cifar10.load_data()"
   ]
  },
  {
   "cell_type": "code",
   "execution_count": 3,
   "metadata": {},
   "outputs": [],
   "source": [
    "# 將 X 與 Y 獨立放進變數\n",
    "x_train, y_train = train\n",
    "x_test, y_test = test\n",
    "# 資料前處理 - 標準化\n",
    "x_train = x_train / 255.\n",
    "x_test = x_test / 255.\n",
    "\n",
    "# 將資料從圖形 (RGB) 轉為向量 (Single Vector)\n",
    "x_train = x_train.reshape((len(x_train), -1))\n",
    "x_test = x_test.reshape((len(x_test), -1))\n",
    "\n",
    "# 將目標轉為 one-hot encoding\n",
    "y_train = keras.utils.to_categorical(y_train, num_classes=10)\n",
    "y_test = keras.utils.to_categorical(y_test, num_classes=10)"
   ]
  },
  {
   "cell_type": "code",
   "execution_count": null,
   "metadata": {},
   "outputs": [],
   "source": [
    "# 建立一個有三層隱藏層之神經網路\n",
    "def build_mlp():\n",
    "    input_layer = keras.layers.Input([x_train.shape[-1]])\n",
    "    x = keras.layers.Dense(units=512, activation=\"relu\")(input_layer)\n",
    "    x = keras.layers.Dense(units=256, activation=\"relu\")(x)\n",
    "    x = keras.layers.Dense(units=128, activation=\"relu\")(x)\n",
    "    out = keras.layers.Dense(units=10, activation=\"softmax\")(x)\n",
    "    \n",
    "    model = keras.models.Model(inputs=[input_layer], outputs=[out])\n",
    "    return model"
   ]
  },
  {
   "cell_type": "code",
   "execution_count": null,
   "metadata": {},
   "outputs": [
    {
     "name": "stderr",
     "output_type": "stream",
     "text": [
      "WARNING: Logging before flag parsing goes to stderr.\n",
      "W0725 17:10:14.018479 14164 deprecation_wrapper.py:119] From C:\\Users\\user\\Anaconda3\\lib\\site-packages\\keras\\backend\\tensorflow_backend.py:74: The name tf.get_default_graph is deprecated. Please use tf.compat.v1.get_default_graph instead.\n",
      "\n",
      "W0725 17:10:19.248527 14164 deprecation_wrapper.py:119] From C:\\Users\\user\\Anaconda3\\lib\\site-packages\\keras\\backend\\tensorflow_backend.py:517: The name tf.placeholder is deprecated. Please use tf.compat.v1.placeholder instead.\n",
      "\n",
      "W0725 17:10:19.657863 14164 deprecation_wrapper.py:119] From C:\\Users\\user\\Anaconda3\\lib\\site-packages\\keras\\backend\\tensorflow_backend.py:4138: The name tf.random_uniform is deprecated. Please use tf.random.uniform instead.\n",
      "\n",
      "W0725 17:10:20.050961 14164 deprecation_wrapper.py:119] From C:\\Users\\user\\Anaconda3\\lib\\site-packages\\keras\\optimizers.py:790: The name tf.train.Optimizer is deprecated. Please use tf.compat.v1.train.Optimizer instead.\n",
      "\n",
      "W0725 17:10:20.069907 14164 deprecation_wrapper.py:119] From C:\\Users\\user\\Anaconda3\\lib\\site-packages\\keras\\backend\\tensorflow_backend.py:3295: The name tf.log is deprecated. Please use tf.math.log instead.\n",
      "\n"
     ]
    },
    {
     "name": "stdout",
     "output_type": "stream",
     "text": [
      "_________________________________________________________________\n",
      "Layer (type)                 Output Shape              Param #   \n",
      "=================================================================\n",
      "input_1 (InputLayer)         (None, 3072)              0         \n",
      "_________________________________________________________________\n",
      "dense_1 (Dense)              (None, 512)               1573376   \n",
      "_________________________________________________________________\n",
      "dense_2 (Dense)              (None, 256)               131328    \n",
      "_________________________________________________________________\n",
      "dense_3 (Dense)              (None, 128)               32896     \n",
      "_________________________________________________________________\n",
      "dense_4 (Dense)              (None, 10)                1290      \n",
      "=================================================================\n",
      "Total params: 1,738,890\n",
      "Trainable params: 1,738,890\n",
      "Non-trainable params: 0\n",
      "_________________________________________________________________\n"
     ]
    }
   ],
   "source": [
    "model = build_mlp()\n",
    "# 用 Keras 內建方法檢視模型各層參數量\n",
    "model.summary()\n",
    "\n",
    "optimizer = keras.optimizers.Adam(lr=0.001)\n",
    "model.compile(loss=\"categorical_crossentropy\", metrics=[\"accuracy\"], optimizer=optimizer)"
   ]
  },
  {
   "cell_type": "code",
   "execution_count": null,
   "metadata": {},
   "outputs": [
    {
     "name": "stderr",
     "output_type": "stream",
     "text": [
      "W0725 17:10:20.438280 14164 deprecation.py:323] From C:\\Users\\user\\Anaconda3\\lib\\site-packages\\tensorflow\\python\\ops\\math_grad.py:1250: add_dispatch_support.<locals>.wrapper (from tensorflow.python.ops.array_ops) is deprecated and will be removed in a future version.\n",
      "Instructions for updating:\n",
      "Use tf.where in 2.0, which has the same broadcast rule as np.where\n",
      "W0725 17:10:20.620564 14164 deprecation_wrapper.py:119] From C:\\Users\\user\\Anaconda3\\lib\\site-packages\\keras\\backend\\tensorflow_backend.py:986: The name tf.assign_add is deprecated. Please use tf.compat.v1.assign_add instead.\n",
      "\n"
     ]
    },
    {
     "name": "stdout",
     "output_type": "stream",
     "text": [
      "Train on 50000 samples, validate on 10000 samples\n",
      "Epoch 1/100\n",
      "50000/50000 [==============================] - 57s 1ms/step - loss: 1.9219 - acc: 0.3048 - val_loss: 1.8180 - val_acc: 0.3280\n",
      "Epoch 2/100\n",
      "50000/50000 [==============================] - 15s 300us/step - loss: 1.6992 - acc: 0.3930 - val_loss: 1.6884 - val_acc: 0.3956\n",
      "Epoch 3/100\n",
      "50000/50000 [==============================] - 13s 266us/step - loss: 1.6032 - acc: 0.4287 - val_loss: 1.5975 - val_acc: 0.4256\n",
      "Epoch 4/100\n",
      "50000/50000 [==============================] - 13s 250us/step - loss: 1.3614 - acc: 0.5154 - val_loss: 1.3939 - val_acc: 0.4994\n",
      "Epoch 10/100\n",
      "50000/50000 [==============================] - 14s 289us/step - loss: 1.3362 - acc: 0.5236 - val_loss: 1.4211 - val_acc: 0.4930\n",
      "Epoch 11/100\n",
      "50000/50000 [==============================] - 13s 263us/step - loss: 1.3110 - acc: 0.5332 - val_loss: 1.4520 - val_acc: 0.4760\n",
      "Epoch 12/100\n",
      "50000/50000 [==============================] - 12s 243us/step - loss: 1.2841 - acc: 0.5427 - val_loss: 1.3946 - val_acc: 0.5060\n",
      "Epoch 13/100\n",
      "50000/50000 [==============================] - 12s 242us/step - loss: 1.2593 - acc: 0.5511 - val_loss: 1.4434 - val_acc: 0.4840\n",
      "Epoch 14/100\n",
      "50000/50000 [==============================] - 13s 254us/step - loss: 1.2461 - acc: 0.5554 - val_loss: 1.4410 - val_acc: 0.4945\n",
      "Epoch 15/100\n",
      "50000/50000 [==============================] - 12s 248us/step - loss: 1.2162 - acc: 0.5653 - val_loss: 1.3608 - val_acc: 0.5219\n",
      "Epoch 16/100\n",
      "50000/50000 [==============================] - 12s 236us/step - loss: 1.1952 - acc: 0.5759 - val_loss: 1.3745 - val_acc: 0.5194\n",
      "Epoch 17/100\n",
      "50000/50000 [==============================] - 12s 238us/step - loss: 1.1749 - acc: 0.5779 - val_loss: 1.3873 - val_acc: 0.5158\n",
      "Epoch 18/100\n",
      "50000/50000 [==============================] - 12s 248us/step - loss: 1.1659 - acc: 0.5825 - val_loss: 1.3625 - val_acc: 0.5214\n",
      "Epoch 19/100\n",
      "50000/50000 [==============================] - 14s 286us/step - loss: 1.1369 - acc: 0.5940 - val_loss: 1.3681 - val_acc: 0.5146\n",
      "Epoch 20/100\n",
      "50000/50000 [==============================] - 13s 257us/step - loss: 1.1242 - acc: 0.5992 - val_loss: 1.3508 - val_acc: 0.5286\n",
      "Epoch 21/100\n",
      "50000/50000 [==============================] - 14s 276us/step - loss: 1.1081 - acc: 0.6044 - val_loss: 1.3663 - val_acc: 0.5300\n",
      "Epoch 22/100\n",
      "50000/50000 [==============================] - 15s 305us/step - loss: 1.0708 - acc: 0.6175 - val_loss: 1.3620 - val_acc: 0.5321\n",
      "Epoch 23/100\n",
      "50000/50000 [==============================] - 13s 255us/step - loss: 0.9639 - acc: 0.6566 - val_loss: 1.4707 - val_acc: 0.5132\n",
      "Epoch 29/100\n",
      "50000/50000 [==============================] - 14s 280us/step - loss: 0.9481 - acc: 0.6612 - val_loss: 1.4310 - val_acc: 0.5322\n",
      "Epoch 30/100\n",
      "50000/50000 [==============================] - 14s 288us/step - loss: 0.9399 - acc: 0.6635 - val_loss: 1.4493 - val_acc: 0.5227\n",
      "Epoch 31/100\n",
      "50000/50000 [==============================] - 13s 261us/step - loss: 0.9226 - acc: 0.6697 - val_loss: 1.4435 - val_acc: 0.5260\n",
      "Epoch 32/100\n",
      "50000/50000 [==============================] - 13s 255us/step - loss: 0.9078 - acc: 0.6771 - val_loss: 1.5028 - val_acc: 0.5166\n",
      "Epoch 33/100\n",
      "50000/50000 [==============================] - 13s 269us/step - loss: 0.8811 - acc: 0.6850 - val_loss: 1.5134 - val_acc: 0.5279\n",
      "Epoch 34/100\n",
      "50000/50000 [==============================] - 14s 274us/step - loss: 0.8583 - acc: 0.6932 - val_loss: 1.5115 - val_acc: 0.5276\n",
      "Epoch 35/100\n",
      "50000/50000 [==============================] - 13s 260us/step - loss: 0.8572 - acc: 0.6921 - val_loss: 1.5110 - val_acc: 0.5260\n",
      "Epoch 36/100\n",
      "50000/50000 [==============================] - 13s 259us/step - loss: 0.8438 - acc: 0.6996 - val_loss: 1.5119 - val_acc: 0.5321\n",
      "Epoch 37/100\n",
      " 2816/50000 [>.............................] - ETA: 12s - loss: 0.7983 - acc: 0.7166"
     ]
    }
   ],
   "source": [
    "# 訓練模型並檢視驗證集的結果\n",
    "model.fit(x_train, y_train, \n",
    "          epochs=100, \n",
    "          batch_size=256, \n",
    "          validation_data=(x_test, y_test), \n",
    "          shuffle=True)"
   ]
  },
  {
   "cell_type": "code",
   "execution_count": null,
   "metadata": {},
   "outputs": [],
   "source": [
    "# 以視覺畫方式檢視訓練過程\n",
    "import matplotlib.pyplot as plt\n",
    "train_loss = model.history.history[\"loss\"]\n",
    "valid_loss = model.history.history[\"val_loss\"]\n",
    "\n",
    "train_acc = model.history.history[\"acc\"]\n",
    "valid_acc = model.history.history[\"val_acc\"]\n",
    "\n",
    "plt.plot(range(len(train_loss)), train_loss, label=\"train loss\")\n",
    "plt.plot(range(len(valid_loss)), valid_loss, label=\"valid loss\")\n",
    "plt.legend()\n",
    "plt.title(\"Loss\")\n",
    "plt.show()\n",
    "\n",
    "plt.plot(range(len(train_acc)), train_acc, label=\"train accuracy\")\n",
    "plt.plot(range(len(valid_acc)), valid_acc, label=\"valid accuracy\")\n",
    "plt.legend()\n",
    "plt.title(\"Accuracy\")\n",
    "plt.show()"
   ]
  },
  {
   "cell_type": "markdown",
   "metadata": {},
   "source": [
    "## 作業\n",
    "1. 請將 Epoch 加到 500 個，並觀察 learning curve 的走勢\n",
    "2. 請將 Optimizer 換成 SGD，並觀察 learning curve 的走勢"
   ]
  }
 ],
 "metadata": {
  "kernelspec": {
   "display_name": "Python 3",
   "language": "python",
   "name": "python3"
  },
  "language_info": {
   "codemirror_mode": {
    "name": "ipython",
    "version": 3
   },
   "file_extension": ".py",
   "mimetype": "text/x-python",
   "name": "python",
   "nbconvert_exporter": "python",
   "pygments_lexer": "ipython3",
   "version": "3.7.3"
  }
 },
 "nbformat": 4,
 "nbformat_minor": 2
}
