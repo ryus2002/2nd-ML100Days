{
 "cells": [
  {
   "cell_type": "markdown",
   "metadata": {},
   "source": [
    "## Work\n",
    "1. 試改變 monitor \"Validation Accuracy\" 並比較結果\n",
    "2. 調整 earlystop 的等待次數至 10, 25 並比較結果"
   ]
  },
  {
   "cell_type": "code",
   "execution_count": 1,
   "metadata": {},
   "outputs": [
    {
     "name": "stderr",
     "output_type": "stream",
     "text": [
      "Using TensorFlow backend.\n"
     ]
    }
   ],
   "source": [
    "import os\n",
    "import keras\n",
    "import matplotlib.pyplot as plt\n",
    "%matplotlib inline\n",
    "\n",
    "\n",
    "# Disable GPU\n",
    "os.environ[\"CUDA_VISIBLE_DEVICES\"] = \"0\""
   ]
  },
  {
   "cell_type": "code",
   "execution_count": 2,
   "metadata": {},
   "outputs": [],
   "source": [
    "train, test = keras.datasets.cifar10.load_data()"
   ]
  },
  {
   "cell_type": "code",
   "execution_count": 3,
   "metadata": {},
   "outputs": [],
   "source": [
    "## 資料前處理\n",
    "def preproc_x(x, flatten=True):\n",
    "    x = x / 255.\n",
    "    if flatten:\n",
    "        x = x.reshape((len(x), -1))\n",
    "    return x\n",
    "\n",
    "def preproc_y(y, num_classes=10):\n",
    "    if y.shape[-1] == 1:\n",
    "        y = keras.utils.to_categorical(y, num_classes)\n",
    "    return y    "
   ]
  },
  {
   "cell_type": "code",
   "execution_count": 4,
   "metadata": {},
   "outputs": [],
   "source": [
    "x_train, y_train = train\n",
    "x_test, y_test = test\n",
    "\n",
    "# Preproc the inputs\n",
    "x_train = preproc_x(x_train)\n",
    "x_test = preproc_x(x_test)\n",
    "\n",
    "# Preprc the outputs\n",
    "y_train = preproc_y(y_train)\n",
    "y_test = preproc_y(y_test)"
   ]
  },
  {
   "cell_type": "code",
   "execution_count": 5,
   "metadata": {},
   "outputs": [],
   "source": [
    "from keras.layers import BatchNormalization\n",
    "\n",
    "\"\"\"\n",
    "建立神經網路，並加入 BN layer\n",
    "\"\"\"\n",
    "def build_mlp(input_shape, output_units=10, num_neurons=[512, 256, 128]):\n",
    "    input_layer = keras.layers.Input(input_shape)\n",
    "    \n",
    "    for i, n_units in enumerate(num_neurons):\n",
    "        if i == 0:\n",
    "            x = keras.layers.Dense(units=n_units, \n",
    "                                   activation=\"relu\", \n",
    "                                   name=\"hidden_layer\"+str(i+1))(input_layer)\n",
    "            x = BatchNormalization()(x)\n",
    "        else:\n",
    "            x = keras.layers.Dense(units=n_units, \n",
    "                                   activation=\"relu\", \n",
    "                                   name=\"hidden_layer\"+str(i+1))(x)\n",
    "            x = BatchNormalization()(x)\n",
    "    \n",
    "    out = keras.layers.Dense(units=output_units, activation=\"softmax\", name=\"output\")(x)\n",
    "    \n",
    "    model = keras.models.Model(inputs=[input_layer], outputs=[out])\n",
    "    return model"
   ]
  },
  {
   "cell_type": "code",
   "execution_count": 6,
   "metadata": {},
   "outputs": [],
   "source": [
    "## 超參數設定\n",
    "LEARNING_RATE = 1e-3\n",
    "EPOCHS = 50\n",
    "BATCH_SIZE = 1024\n",
    "MOMENTUM = 0.95"
   ]
  },
  {
   "cell_type": "code",
   "execution_count": 7,
   "metadata": {},
   "outputs": [
    {
     "name": "stderr",
     "output_type": "stream",
     "text": [
      "WARNING: Logging before flag parsing goes to stderr.\n",
      "W0730 09:52:40.492653 11072 deprecation_wrapper.py:119] From C:\\Users\\user\\Anaconda3\\lib\\site-packages\\keras\\backend\\tensorflow_backend.py:74: The name tf.get_default_graph is deprecated. Please use tf.compat.v1.get_default_graph instead.\n",
      "\n",
      "W0730 09:53:08.864396 11072 deprecation_wrapper.py:119] From C:\\Users\\user\\Anaconda3\\lib\\site-packages\\keras\\backend\\tensorflow_backend.py:517: The name tf.placeholder is deprecated. Please use tf.compat.v1.placeholder instead.\n",
      "\n",
      "W0730 09:53:13.805879 11072 deprecation_wrapper.py:119] From C:\\Users\\user\\Anaconda3\\lib\\site-packages\\keras\\backend\\tensorflow_backend.py:4138: The name tf.random_uniform is deprecated. Please use tf.random.uniform instead.\n",
      "\n",
      "W0730 09:53:17.188939 11072 deprecation_wrapper.py:119] From C:\\Users\\user\\Anaconda3\\lib\\site-packages\\keras\\backend\\tensorflow_backend.py:133: The name tf.placeholder_with_default is deprecated. Please use tf.compat.v1.placeholder_with_default instead.\n",
      "\n",
      "W0730 09:53:17.778491 11072 deprecation_wrapper.py:119] From C:\\Users\\user\\Anaconda3\\lib\\site-packages\\keras\\optimizers.py:790: The name tf.train.Optimizer is deprecated. Please use tf.compat.v1.train.Optimizer instead.\n",
      "\n",
      "W0730 09:53:17.784474 11072 deprecation_wrapper.py:119] From C:\\Users\\user\\Anaconda3\\lib\\site-packages\\keras\\backend\\tensorflow_backend.py:3295: The name tf.log is deprecated. Please use tf.math.log instead.\n",
      "\n"
     ]
    },
    {
     "name": "stdout",
     "output_type": "stream",
     "text": [
      "_________________________________________________________________\n",
      "Layer (type)                 Output Shape              Param #   \n",
      "=================================================================\n",
      "input_1 (InputLayer)         (None, 3072)              0         \n",
      "_________________________________________________________________\n",
      "hidden_layer1 (Dense)        (None, 512)               1573376   \n",
      "_________________________________________________________________\n",
      "batch_normalization_1 (Batch (None, 512)               2048      \n",
      "_________________________________________________________________\n",
      "hidden_layer2 (Dense)        (None, 256)               131328    \n",
      "_________________________________________________________________\n",
      "batch_normalization_2 (Batch (None, 256)               1024      \n",
      "_________________________________________________________________\n",
      "hidden_layer3 (Dense)        (None, 128)               32896     \n",
      "_________________________________________________________________\n",
      "batch_normalization_3 (Batch (None, 128)               512       \n",
      "_________________________________________________________________\n",
      "output (Dense)               (None, 10)                1290      \n",
      "=================================================================\n",
      "Total params: 1,742,474\n",
      "Trainable params: 1,740,682\n",
      "Non-trainable params: 1,792\n",
      "_________________________________________________________________\n"
     ]
    },
    {
     "name": "stderr",
     "output_type": "stream",
     "text": [
      "W0730 09:53:18.211333 11072 deprecation.py:323] From C:\\Users\\user\\Anaconda3\\lib\\site-packages\\tensorflow\\python\\ops\\math_grad.py:1250: add_dispatch_support.<locals>.wrapper (from tensorflow.python.ops.array_ops) is deprecated and will be removed in a future version.\n",
      "Instructions for updating:\n",
      "Use tf.where in 2.0, which has the same broadcast rule as np.where\n"
     ]
    },
    {
     "name": "stdout",
     "output_type": "stream",
     "text": [
      "Train on 50000 samples, validate on 10000 samples\n",
      "Epoch 1/50\n",
      "50000/50000 [==============================] - 83s 2ms/step - loss: 2.1980 - acc: 0.2735 - val_loss: 2.0599 - val_acc: 0.3291\n",
      "Epoch 2/50\n",
      "50000/50000 [==============================] - 11s 228us/step - loss: 1.7397 - acc: 0.3967 - val_loss: 1.7886 - val_acc: 0.3913\n",
      "Epoch 3/50\n",
      "50000/50000 [==============================] - 11s 222us/step - loss: 1.6169 - acc: 0.4356 - val_loss: 1.6960 - val_acc: 0.4080\n",
      "Epoch 4/50\n",
      "50000/50000 [==============================] - 12s 233us/step - loss: 1.5432 - acc: 0.4603 - val_loss: 1.6320 - val_acc: 0.4271\n",
      "Epoch 5/50\n",
      "50000/50000 [==============================] - 11s 226us/step - loss: 1.4903 - acc: 0.4788 - val_loss: 1.5919 - val_acc: 0.4411\n",
      "Epoch 6/50\n",
      "50000/50000 [==============================] - 9s 177us/step - loss: 1.4439 - acc: 0.4968 - val_loss: 1.5712 - val_acc: 0.4510\n",
      "Epoch 7/50\n",
      "50000/50000 [==============================] - 9s 187us/step - loss: 1.4049 - acc: 0.5112 - val_loss: 1.5400 - val_acc: 0.4565\n",
      "Epoch 8/50\n",
      "50000/50000 [==============================] - 13s 258us/step - loss: 1.3693 - acc: 0.5229 - val_loss: 1.5313 - val_acc: 0.4655\n",
      "Epoch 9/50\n",
      "50000/50000 [==============================] - 10s 206us/step - loss: 1.3386 - acc: 0.5332 - val_loss: 1.5077 - val_acc: 0.4732\n",
      "Epoch 10/50\n",
      "50000/50000 [==============================] - 9s 188us/step - loss: 1.3077 - acc: 0.5448 - val_loss: 1.4958 - val_acc: 0.4741\n",
      "Epoch 11/50\n",
      "50000/50000 [==============================] - 10s 205us/step - loss: 1.2802 - acc: 0.5527 - val_loss: 1.4897 - val_acc: 0.4800\n",
      "Epoch 12/50\n",
      "50000/50000 [==============================] - 10s 199us/step - loss: 1.2513 - acc: 0.5656 - val_loss: 1.4845 - val_acc: 0.4768\n",
      "Epoch 13/50\n",
      "50000/50000 [==============================] - 5s 100us/step - loss: 1.0595 - acc: 0.6390 - val_loss: 1.4588 - val_acc: 0.4949\n",
      "Epoch 21/50\n",
      "50000/50000 [==============================] - 4s 87us/step - loss: 1.0387 - acc: 0.6482 - val_loss: 1.4626 - val_acc: 0.4937\n",
      "Epoch 22/50\n",
      "50000/50000 [==============================] - 4s 89us/step - loss: 1.0179 - acc: 0.6562 - val_loss: 1.4680 - val_acc: 0.4942\n",
      "Epoch 23/50\n",
      "50000/50000 [==============================] - 4s 86us/step - loss: 0.9939 - acc: 0.6664 - val_loss: 1.4690 - val_acc: 0.4920\n",
      "Epoch 24/50\n",
      "50000/50000 [==============================] - 5s 109us/step - loss: 0.9739 - acc: 0.6727 - val_loss: 1.4717 - val_acc: 0.4914\n",
      "Epoch 25/50\n",
      "50000/50000 [==============================] - 9s 174us/step - loss: 0.9528 - acc: 0.6828 - val_loss: 1.4820 - val_acc: 0.4910\n",
      "Epoch 26/50\n",
      "50000/50000 [==============================] - 9s 183us/step - loss: 0.9333 - acc: 0.6892 - val_loss: 1.4942 - val_acc: 0.4872\n",
      "Epoch 27/50\n",
      "50000/50000 [==============================] - 9s 175us/step - loss: 0.9118 - acc: 0.6958 - val_loss: 1.4954 - val_acc: 0.4852\n",
      "Epoch 28/50\n",
      "50000/50000 [==============================] - 9s 187us/step - loss: 0.8904 - acc: 0.7040 - val_loss: 1.4888 - val_acc: 0.4893\n",
      "Epoch 29/50\n",
      "50000/50000 [==============================] - 9s 175us/step - loss: 0.8709 - acc: 0.7139 - val_loss: 1.4974 - val_acc: 0.4899\n",
      "Epoch 00029: early stopping\n",
      "_________________________________________________________________\n",
      "Layer (type)                 Output Shape              Param #   \n",
      "=================================================================\n",
      "input_2 (InputLayer)         (None, 3072)              0         \n",
      "_________________________________________________________________\n",
      "hidden_layer1 (Dense)        (None, 512)               1573376   \n",
      "_________________________________________________________________\n",
      "batch_normalization_4 (Batch (None, 512)               2048      \n",
      "_________________________________________________________________\n",
      "hidden_layer2 (Dense)        (None, 256)               131328    \n",
      "_________________________________________________________________\n",
      "batch_normalization_5 (Batch (None, 256)               1024      \n",
      "_________________________________________________________________\n",
      "hidden_layer3 (Dense)        (None, 128)               32896     \n",
      "_________________________________________________________________\n",
      "batch_normalization_6 (Batch (None, 128)               512       \n",
      "_________________________________________________________________\n",
      "output (Dense)               (None, 10)                1290      \n",
      "=================================================================\n",
      "Total params: 1,742,474\n",
      "Trainable params: 1,740,682\n",
      "Non-trainable params: 1,792\n",
      "_________________________________________________________________\n",
      "Train on 50000 samples, validate on 10000 samples\n",
      "Epoch 1/50\n",
      "50000/50000 [==============================] - 11s 219us/step - loss: 2.2328 - acc: 0.2689 - val_loss: 2.1548 - val_acc: 0.3025\n",
      "Epoch 2/50\n",
      "50000/50000 [==============================] - 9s 182us/step - loss: 1.7374 - acc: 0.3932 - val_loss: 1.8150 - val_acc: 0.3726\n",
      "Epoch 3/50\n",
      "50000/50000 [==============================] - 9s 177us/step - loss: 1.6151 - acc: 0.4358 - val_loss: 1.7000 - val_acc: 0.4065\n",
      "Epoch 4/50\n",
      "50000/50000 [==============================] - 9s 188us/step - loss: 1.5440 - acc: 0.4589 - val_loss: 1.6385 - val_acc: 0.4194\n",
      "Epoch 5/50\n",
      "50000/50000 [==============================] - 8s 169us/step - loss: 1.4904 - acc: 0.4766 - val_loss: 1.6078 - val_acc: 0.4396\n",
      "Epoch 6/50\n",
      "50000/50000 [==============================] - 8s 163us/step - loss: 1.4465 - acc: 0.4955 - val_loss: 1.5774 - val_acc: 0.4495\n",
      "Epoch 7/50\n",
      "50000/50000 [==============================] - 8s 168us/step - loss: 1.4074 - acc: 0.5087 - val_loss: 1.5500 - val_acc: 0.4554\n",
      "Epoch 8/50\n",
      "50000/50000 [==============================] - 9s 170us/step - loss: 1.3726 - acc: 0.5207 - val_loss: 1.5335 - val_acc: 0.4654\n",
      "Epoch 9/50\n",
      "50000/50000 [==============================] - 6s 129us/step - loss: 1.3411 - acc: 0.5311 - val_loss: 1.5351 - val_acc: 0.4619\n",
      "Epoch 10/50\n",
      "50000/50000 [==============================] - 8s 164us/step - loss: 1.3122 - acc: 0.5440 - val_loss: 1.5101 - val_acc: 0.4694\n",
      "Epoch 11/50\n",
      "50000/50000 [==============================] - 10s 192us/step - loss: 1.2825 - acc: 0.5549 - val_loss: 1.5020 - val_acc: 0.4715\n",
      "Epoch 12/50\n",
      "50000/50000 [==============================] - 10s 200us/step - loss: 1.2565 - acc: 0.5633 - val_loss: 1.4969 - val_acc: 0.4763\n",
      "Epoch 13/50\n",
      "50000/50000 [==============================] - 9s 184us/step - loss: 1.2317 - acc: 0.5733 - val_loss: 1.4874 - val_acc: 0.4762\n",
      "Epoch 14/50\n",
      "50000/50000 [==============================] - 10s 190us/step - loss: 1.2053 - acc: 0.5822 - val_loss: 1.4753 - val_acc: 0.4811\n",
      "Epoch 15/50\n",
      "50000/50000 [==============================] - 10s 193us/step - loss: 1.1824 - acc: 0.5932 - val_loss: 1.4642 - val_acc: 0.4870\n",
      "Epoch 16/50\n",
      "50000/50000 [==============================] - 9s 176us/step - loss: 1.1592 - acc: 0.6004 - val_loss: 1.4666 - val_acc: 0.4873\n",
      "Epoch 17/50\n",
      "50000/50000 [==============================] - 10s 202us/step - loss: 1.1375 - acc: 0.6080 - val_loss: 1.4659 - val_acc: 0.4864\n",
      "Epoch 18/50\n",
      "50000/50000 [==============================] - 10s 205us/step - loss: 1.1137 - acc: 0.6179 - val_loss: 1.4553 - val_acc: 0.4917\n",
      "Epoch 19/50\n",
      "50000/50000 [==============================] - 6s 129us/step - loss: 1.0928 - acc: 0.6258 - val_loss: 1.4545 - val_acc: 0.4918\n",
      "Epoch 20/50\n",
      "50000/50000 [==============================] - 10s 196us/step - loss: 1.0699 - acc: 0.6347 - val_loss: 1.4678 - val_acc: 0.4862\n",
      "Epoch 21/50\n",
      "50000/50000 [==============================] - 9s 187us/step - loss: 1.0492 - acc: 0.6424 - val_loss: 1.4504 - val_acc: 0.4948\n",
      "Epoch 22/50\n",
      "50000/50000 [==============================] - 9s 188us/step - loss: 1.0272 - acc: 0.6506 - val_loss: 1.4610 - val_acc: 0.4867\n",
      "Epoch 23/50\n",
      "50000/50000 [==============================] - 10s 205us/step - loss: 1.0075 - acc: 0.6572 - val_loss: 1.4719 - val_acc: 0.4915\n",
      "Epoch 24/50\n",
      "50000/50000 [==============================] - 9s 176us/step - loss: 0.9858 - acc: 0.6661 - val_loss: 1.4609 - val_acc: 0.4986\n",
      "Epoch 25/50\n",
      "50000/50000 [==============================] - 10s 195us/step - loss: 0.9653 - acc: 0.6744 - val_loss: 1.4672 - val_acc: 0.4946\n",
      "Epoch 26/50\n",
      "50000/50000 [==============================] - 10s 207us/step - loss: 0.9459 - acc: 0.6838 - val_loss: 1.4567 - val_acc: 0.5002\n"
     ]
    },
    {
     "name": "stdout",
     "output_type": "stream",
     "text": [
      "Epoch 27/50\n",
      "50000/50000 [==============================] - 10s 196us/step - loss: 0.9247 - acc: 0.6890 - val_loss: 1.4681 - val_acc: 0.4985\n",
      "Epoch 28/50\n",
      "50000/50000 [==============================] - 9s 178us/step - loss: 0.9059 - acc: 0.6984 - val_loss: 1.4789 - val_acc: 0.4957\n",
      "Epoch 29/50\n",
      "50000/50000 [==============================] - 8s 157us/step - loss: 0.8860 - acc: 0.7049 - val_loss: 1.4808 - val_acc: 0.4967\n",
      "Epoch 30/50\n",
      "50000/50000 [==============================] - 9s 190us/step - loss: 0.8659 - acc: 0.7141 - val_loss: 1.4756 - val_acc: 0.5011\n",
      "Epoch 31/50\n",
      "50000/50000 [==============================] - 10s 193us/step - loss: 0.8471 - acc: 0.7189 - val_loss: 1.4904 - val_acc: 0.4964\n",
      "Epoch 32/50\n",
      "50000/50000 [==============================] - 9s 189us/step - loss: 0.8271 - acc: 0.7271 - val_loss: 1.4983 - val_acc: 0.4972\n",
      "Epoch 33/50\n",
      "50000/50000 [==============================] - 10s 194us/step - loss: 0.8088 - acc: 0.7363 - val_loss: 1.4970 - val_acc: 0.5021\n",
      "Epoch 34/50\n",
      "50000/50000 [==============================] - 10s 194us/step - loss: 0.7896 - acc: 0.7435 - val_loss: 1.5077 - val_acc: 0.4964\n",
      "Epoch 35/50\n",
      "50000/50000 [==============================] - 9s 189us/step - loss: 0.7708 - acc: 0.7522 - val_loss: 1.5094 - val_acc: 0.4989\n",
      "Epoch 36/50\n",
      "50000/50000 [==============================] - 10s 198us/step - loss: 0.7512 - acc: 0.7575 - val_loss: 1.5197 - val_acc: 0.4985\n",
      "Epoch 37/50\n",
      "50000/50000 [==============================] - 7s 146us/step - loss: 0.7355 - acc: 0.7648 - val_loss: 1.5210 - val_acc: 0.4953\n",
      "Epoch 38/50\n",
      "50000/50000 [==============================] - 9s 174us/step - loss: 0.7145 - acc: 0.7735 - val_loss: 1.5364 - val_acc: 0.4934\n",
      "Epoch 39/50\n",
      "50000/50000 [==============================] - 10s 200us/step - loss: 0.6969 - acc: 0.7794 - val_loss: 1.5532 - val_acc: 0.4968\n",
      "Epoch 40/50\n",
      "50000/50000 [==============================] - 11s 215us/step - loss: 0.6772 - acc: 0.7894 - val_loss: 1.5578 - val_acc: 0.4932\n",
      "Epoch 41/50\n",
      "50000/50000 [==============================] - 10s 194us/step - loss: 0.6600 - acc: 0.7940 - val_loss: 1.5750 - val_acc: 0.4913\n",
      "Epoch 42/50\n",
      "50000/50000 [==============================] - 10s 209us/step - loss: 0.6404 - acc: 0.8013 - val_loss: 1.5814 - val_acc: 0.4931\n",
      "Epoch 43/50\n",
      "50000/50000 [==============================] - 10s 198us/step - loss: 0.6248 - acc: 0.8094 - val_loss: 1.5854 - val_acc: 0.4969\n",
      "Epoch 44/50\n",
      "50000/50000 [==============================] - 9s 182us/step - loss: 0.6069 - acc: 0.8160 - val_loss: 1.5969 - val_acc: 0.4954\n",
      "Epoch 45/50\n",
      "50000/50000 [==============================] - 10s 207us/step - loss: 0.5919 - acc: 0.8218 - val_loss: 1.6176 - val_acc: 0.4917\n",
      "Epoch 46/50\n",
      "50000/50000 [==============================] - 10s 205us/step - loss: 0.5725 - acc: 0.8282 - val_loss: 1.6148 - val_acc: 0.4885\n",
      "Epoch 00046: early stopping\n"
     ]
    }
   ],
   "source": [
    "\"\"\"\n",
    "# 載入 Callbacks, 並將 monitor 設定為監控 validation loss\n",
    "\"\"\"\n",
    "from keras.callbacks import EarlyStopping\n",
    "_patience = [10,25]\n",
    "\n",
    "results = {}\n",
    "for p in _patience:\n",
    "    earlystop = EarlyStopping(monitor=\"val_loss\", \n",
    "                          patience=p, \n",
    "                          verbose=1\n",
    "                          )\n",
    "    model = build_mlp(input_shape=x_train.shape[1:])\n",
    "    model.summary()\n",
    "    optimizer = keras.optimizers.SGD(lr=LEARNING_RATE, nesterov=True, momentum=MOMENTUM)\n",
    "    model.compile(loss=\"categorical_crossentropy\", metrics=[\"accuracy\"], optimizer=optimizer)\n",
    "\n",
    "    model.fit(x_train, y_train, \n",
    "              epochs=EPOCHS, \n",
    "              batch_size=BATCH_SIZE, \n",
    "              validation_data=(x_test, y_test), \n",
    "              shuffle=True,\n",
    "              callbacks=[earlystop]\n",
    "             )\n",
    "\n",
    "    # Collect results\n",
    "    train_loss = model.history.history[\"loss\"]\n",
    "    valid_loss = model.history.history[\"val_loss\"]\n",
    "    train_acc = model.history.history[\"acc\"]\n",
    "    valid_acc = model.history.history[\"val_acc\"]\n",
    "    exp_name_tag = \"exp-l2-%s\" % str(p)\n",
    "    results[exp_name_tag] = {'train-loss': train_loss,\n",
    "                             'valid-loss': valid_loss,\n",
    "                             'train-acc': train_acc,\n",
    "                             'valid-acc': valid_acc}"
   ]
  },
  {
   "cell_type": "code",
   "execution_count": 8,
   "metadata": {},
   "outputs": [
    {
     "data": {
      "image/png": "[encoded data removed]",
      "text/plain": [
       "<Figure size 576x432 with 1 Axes>"
      ]
     },
     "metadata": {
      "needs_background": "light"
     },
     "output_type": "display_data"
    },
    {
     "data": {
      "image/png": "[encoded data removed]",
      "text/plain": [
       "<Figure size 576x432 with 1 Axes>"
      ]
     },
     "metadata": {
      "needs_background": "light"
     },
     "output_type": "display_data"
    }
   ],
   "source": [
    "import matplotlib.pyplot as plt\n",
    "%matplotlib inline\n",
    "color_bar = [\"b\", \"y\"]\n",
    "\n",
    "plt.figure(figsize=(8,6))\n",
    "for i, cond in enumerate(results.keys()):\n",
    "    plt.plot(range(len(results[cond]['train-loss'])),results[cond]['train-loss'], '-', label=cond, color=color_bar[i])\n",
    "    plt.plot(range(len(results[cond]['valid-loss'])),results[cond]['valid-loss'], '--', label=cond, color=color_bar[i])\n",
    "plt.title(\"Loss\")\n",
    "plt.ylim([0, 5])\n",
    "plt.legend()\n",
    "plt.show()\n",
    "\n",
    "plt.figure(figsize=(8,6))\n",
    "for i, cond in enumerate(results.keys()):\n",
    "    plt.plot(range(len(results[cond]['train-acc'])),results[cond]['train-acc'], '-', label=cond, color=color_bar[i])\n",
    "    plt.plot(range(len(results[cond]['valid-acc'])),results[cond]['valid-acc'], '--', label=cond, color=color_bar[i])\n",
    "plt.title(\"Accuracy\")\n",
    "plt.legend()\n",
    "plt.show()"
   ]
  }
 ],
 "metadata": {
  "kernelspec": {
   "display_name": "Python 3",
   "language": "python",
   "name": "python3"
  },
  "language_info": {
   "codemirror_mode": {
    "name": "ipython",
    "version": 3
   },
   "file_extension": ".py",
   "mimetype": "text/x-python",
   "name": "python",
   "nbconvert_exporter": "python",
   "pygments_lexer": "ipython3",
   "version": "3.7.3"
  }
 },
 "nbformat": 4,
 "nbformat_minor": 2
}
