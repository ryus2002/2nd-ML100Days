{
 "cells": [
  {
   "cell_type": "markdown",
   "metadata": {},
   "source": [
    "## 範例重點\n",
    "### 學習在模型開始前檢查各個環節\n",
    "1. 是否有 GPU 資源\n",
    "2. 將前處理轉為函式，統一處理訓練、驗證與測試集\n",
    "3. 將超參數變數化，易於重複使用函式、模型等"
   ]
  },
  {
   "cell_type": "code",
   "execution_count": 1,
   "metadata": {},
   "outputs": [
    {
     "name": "stderr",
     "output_type": "stream",
     "text": [
      "'nvidia-smi' 不是內部或外部命令、可執行的程式或批次檔。\n"
     ]
    }
   ],
   "source": [
    "## 確認硬體資源 (如果你是在 Linux, 若是在 Windows, 請參考 https://blog.csdn.net/idwtwt/article/details/78017565)\n",
    "!nvidia-smi"
   ]
  },
  {
   "cell_type": "code",
   "execution_count": 2,
   "metadata": {},
   "outputs": [
    {
     "name": "stderr",
     "output_type": "stream",
     "text": [
      "Using TensorFlow backend.\n"
     ]
    }
   ],
   "source": [
    "import os\n",
    "import keras\n",
    "\n",
    "# 本範例不需使用 GPU, 將 GPU 設定為 \"無\"\n",
    "os.environ[\"CUDA_VISIBLE_DEVICES\"] = \"\""
   ]
  },
  {
   "cell_type": "code",
   "execution_count": 3,
   "metadata": {},
   "outputs": [],
   "source": [
    "# 從 Keras 的內建功能中，取得 train 與 test 資料集\n",
    "train, test = keras.datasets.cifar10.load_data()"
   ]
  },
  {
   "cell_type": "code",
   "execution_count": 4,
   "metadata": {},
   "outputs": [],
   "source": [
    "## 資料前處理\n",
    "def preproc_x(x, flatten=True):\n",
    "    x = x / 255.\n",
    "    if flatten:\n",
    "        x = x.reshape((len(x), -1))\n",
    "    return x\n",
    "\n",
    "def preproc_y(y, num_classes=10):\n",
    "    if y.shape[-1] == 1:\n",
    "        y = keras.utils.to_categorical(y, num_classes)\n",
    "    return y    "
   ]
  },
  {
   "cell_type": "code",
   "execution_count": 5,
   "metadata": {},
   "outputs": [],
   "source": [
    "x_train, y_train = train\n",
    "x_test, y_test = test\n",
    "\n",
    "# 資料前處理 - X 標準化\n",
    "x_train = preproc_x(x_train)\n",
    "x_test = preproc_x(x_test)\n",
    "\n",
    "# 資料前處理 -Y 轉成 onehot\n",
    "y_train = preproc_y(y_train)\n",
    "y_test = preproc_y(y_test)"
   ]
  },
  {
   "cell_type": "code",
   "execution_count": 6,
   "metadata": {},
   "outputs": [],
   "source": [
    "def build_mlp(input_shape, output_units=10, num_neurons=[512, 256, 128]):\n",
    "    input_layer = keras.layers.Input(input_shape)\n",
    "    \n",
    "    for i, n_units in enumerate(num_neurons):\n",
    "        if i == 0:\n",
    "            x = keras.layers.Dense(units=n_units, activation=\"relu\", name=\"hidden_layer\"+str(i+1))(input_layer)\n",
    "        else:\n",
    "            x = keras.layers.Dense(units=n_units, activation=\"relu\", name=\"hidden_layer\"+str(i+1))(x)\n",
    "    \n",
    "    out = keras.layers.Dense(units=output_units, activation=\"softmax\", name=\"output\")(x)\n",
    "    \n",
    "    model = keras.models.Model(inputs=[input_layer], outputs=[out])\n",
    "    return model"
   ]
  },
  {
   "cell_type": "code",
   "execution_count": 7,
   "metadata": {},
   "outputs": [
    {
     "name": "stderr",
     "output_type": "stream",
     "text": [
      "WARNING: Logging before flag parsing goes to stderr.\n",
      "W0726 10:19:26.697432 15292 deprecation_wrapper.py:119] From C:\\Users\\user\\Anaconda3\\lib\\site-packages\\keras\\backend\\tensorflow_backend.py:74: The name tf.get_default_graph is deprecated. Please use tf.compat.v1.get_default_graph instead.\n",
      "\n",
      "W0726 10:19:46.490790 15292 deprecation_wrapper.py:119] From C:\\Users\\user\\Anaconda3\\lib\\site-packages\\keras\\backend\\tensorflow_backend.py:517: The name tf.placeholder is deprecated. Please use tf.compat.v1.placeholder instead.\n",
      "\n",
      "W0726 10:19:50.366446 15292 deprecation_wrapper.py:119] From C:\\Users\\user\\Anaconda3\\lib\\site-packages\\keras\\backend\\tensorflow_backend.py:4138: The name tf.random_uniform is deprecated. Please use tf.random.uniform instead.\n",
      "\n"
     ]
    },
    {
     "name": "stdout",
     "output_type": "stream",
     "text": [
      "_________________________________________________________________\n",
      "Layer (type)                 Output Shape              Param #   \n",
      "=================================================================\n",
      "input_1 (InputLayer)         (None, 3072)              0         \n",
      "_________________________________________________________________\n",
      "hidden_layer1 (Dense)        (None, 512)               1573376   \n",
      "_________________________________________________________________\n",
      "hidden_layer2 (Dense)        (None, 256)               131328    \n",
      "_________________________________________________________________\n",
      "hidden_layer3 (Dense)        (None, 128)               32896     \n",
      "_________________________________________________________________\n",
      "output (Dense)               (None, 10)                1290      \n",
      "=================================================================\n",
      "Total params: 1,738,890\n",
      "Trainable params: 1,738,890\n",
      "Non-trainable params: 0\n",
      "_________________________________________________________________\n"
     ]
    }
   ],
   "source": [
    "model = build_mlp(input_shape=x_train.shape[1:])\n",
    "model.summary()"
   ]
  },
  {
   "cell_type": "code",
   "execution_count": 8,
   "metadata": {},
   "outputs": [],
   "source": [
    "## 超參數設定\n",
    "LEARNING_RATE = 0.001\n",
    "EPOCHS = 100\n",
    "BATCH_SIZE = 256"
   ]
  },
  {
   "cell_type": "code",
   "execution_count": 9,
   "metadata": {},
   "outputs": [
    {
     "name": "stderr",
     "output_type": "stream",
     "text": [
      "W0726 10:19:52.304263 15292 deprecation_wrapper.py:119] From C:\\Users\\user\\Anaconda3\\lib\\site-packages\\keras\\optimizers.py:790: The name tf.train.Optimizer is deprecated. Please use tf.compat.v1.train.Optimizer instead.\n",
      "\n",
      "W0726 10:19:52.432919 15292 deprecation_wrapper.py:119] From C:\\Users\\user\\Anaconda3\\lib\\site-packages\\keras\\backend\\tensorflow_backend.py:3295: The name tf.log is deprecated. Please use tf.math.log instead.\n",
      "\n"
     ]
    }
   ],
   "source": [
    "optimizer = keras.optimizers.Adam(lr=LEARNING_RATE)\n",
    "model.compile(loss=\"categorical_crossentropy\", metrics=[\"accuracy\"], optimizer=optimizer)"
   ]
  },
  {
   "cell_type": "code",
   "execution_count": 10,
   "metadata": {},
   "outputs": [
    {
     "name": "stderr",
     "output_type": "stream",
     "text": [
      "W0726 10:19:55.232431 15292 deprecation.py:323] From C:\\Users\\user\\Anaconda3\\lib\\site-packages\\tensorflow\\python\\ops\\math_grad.py:1250: add_dispatch_support.<locals>.wrapper (from tensorflow.python.ops.array_ops) is deprecated and will be removed in a future version.\n",
      "Instructions for updating:\n",
      "Use tf.where in 2.0, which has the same broadcast rule as np.where\n",
      "W0726 10:19:55.295264 15292 deprecation_wrapper.py:119] From C:\\Users\\user\\Anaconda3\\lib\\site-packages\\keras\\backend\\tensorflow_backend.py:986: The name tf.assign_add is deprecated. Please use tf.compat.v1.assign_add instead.\n",
      "\n"
     ]
    },
    {
     "name": "stdout",
     "output_type": "stream",
     "text": [
      "Train on 50000 samples, validate on 10000 samples\n",
      "Epoch 1/100\n",
      "50000/50000 [==============================] - 35s 691us/step - loss: 1.9201 - acc: 0.3076 - val_loss: 1.7558 - val_acc: 0.3641\n",
      "Epoch 2/100\n",
      "50000/50000 [==============================] - 12s 241us/step - loss: 1.7060 - acc: 0.3950 - val_loss: 1.6582 - val_acc: 0.4118\n",
      "Epoch 3/100\n",
      "50000/50000 [==============================] - 12s 246us/step - loss: 1.6175 - acc: 0.4243 - val_loss: 1.5719 - val_acc: 0.4429\n",
      "Epoch 4/100\n",
      "50000/50000 [==============================] - 12s 237us/step - loss: 1.5410 - acc: 0.4508 - val_loss: 1.5538 - val_acc: 0.4469\n",
      "Epoch 5/100\n",
      "50000/50000 [==============================] - 12s 238us/step - loss: 1.5010 - acc: 0.4654 - val_loss: 1.4935 - val_acc: 0.4674\n",
      "Epoch 6/100\n",
      "50000/50000 [==============================] - 12s 248us/step - loss: 1.4625 - acc: 0.4789 - val_loss: 1.4845 - val_acc: 0.4729\n",
      "Epoch 7/100\n",
      "50000/50000 [==============================] - 12s 234us/step - loss: 1.4279 - acc: 0.4931 - val_loss: 1.4742 - val_acc: 0.4756\n",
      "Epoch 8/100\n",
      "50000/50000 [==============================] - 12s 236us/step - loss: 1.3943 - acc: 0.5027 - val_loss: 1.4900 - val_acc: 0.4689\n",
      "Epoch 9/100\n",
      "50000/50000 [==============================] - 12s 241us/step - loss: 1.3690 - acc: 0.5110 - val_loss: 1.4725 - val_acc: 0.4820\n",
      "Epoch 10/100\n",
      "50000/50000 [==============================] - 12s 235us/step - loss: 1.3476 - acc: 0.5202 - val_loss: 1.4001 - val_acc: 0.5059\n",
      "Epoch 11/100\n",
      "50000/50000 [==============================] - 12s 242us/step - loss: 1.3144 - acc: 0.5287 - val_loss: 1.3879 - val_acc: 0.5133\n",
      "Epoch 12/100\n",
      "50000/50000 [==============================] - 12s 239us/step - loss: 1.2885 - acc: 0.5411 - val_loss: 1.4683 - val_acc: 0.4804\n",
      "Epoch 13/100\n",
      "50000/50000 [==============================] - 12s 234us/step - loss: 1.2638 - acc: 0.5502 - val_loss: 1.3730 - val_acc: 0.5153\n",
      "Epoch 14/100\n",
      "50000/50000 [==============================] - 12s 237us/step - loss: 1.2425 - acc: 0.5573 - val_loss: 1.3909 - val_acc: 0.5094\n",
      "Epoch 15/100\n",
      "50000/50000 [==============================] - 12s 235us/step - loss: 1.2117 - acc: 0.5682 - val_loss: 1.4900 - val_acc: 0.4916\n",
      "Epoch 16/100\n",
      "50000/50000 [==============================] - 12s 240us/step - loss: 1.2027 - acc: 0.5685 - val_loss: 1.3904 - val_acc: 0.5132\n",
      "Epoch 17/100\n",
      "50000/50000 [==============================] - 11s 222us/step - loss: 1.1736 - acc: 0.5805 - val_loss: 1.3519 - val_acc: 0.5218\n",
      "Epoch 18/100\n",
      "50000/50000 [==============================] - 11s 218us/step - loss: 1.1455 - acc: 0.5906 - val_loss: 1.3633 - val_acc: 0.5275\n",
      "Epoch 19/100\n",
      "50000/50000 [==============================] - 13s 261us/step - loss: 1.1288 - acc: 0.5949 - val_loss: 1.3690 - val_acc: 0.5252\n",
      "Epoch 20/100\n",
      "50000/50000 [==============================] - 9s 176us/step - loss: 1.1187 - acc: 0.5987 - val_loss: 1.4119 - val_acc: 0.5097\n",
      "Epoch 21/100\n",
      "50000/50000 [==============================] - 10s 190us/step - loss: 1.0924 - acc: 0.6110 - val_loss: 1.3722 - val_acc: 0.5288\n",
      "Epoch 22/100\n",
      "50000/50000 [==============================] - 11s 225us/step - loss: 1.0835 - acc: 0.6111 - val_loss: 1.4141 - val_acc: 0.5211\n",
      "Epoch 23/100\n",
      "50000/50000 [==============================] - 11s 229us/step - loss: 1.0558 - acc: 0.6198 - val_loss: 1.3630 - val_acc: 0.5313\n",
      "Epoch 24/100\n",
      "50000/50000 [==============================] - 11s 230us/step - loss: 1.0394 - acc: 0.6264 - val_loss: 1.3888 - val_acc: 0.5307\n",
      "Epoch 25/100\n",
      "50000/50000 [==============================] - 11s 223us/step - loss: 1.0104 - acc: 0.6383 - val_loss: 1.4022 - val_acc: 0.5249\n",
      "Epoch 26/100\n",
      "50000/50000 [==============================] - 11s 217us/step - loss: 0.9946 - acc: 0.6431 - val_loss: 1.3959 - val_acc: 0.5320\n",
      "Epoch 27/100\n",
      "50000/50000 [==============================] - 11s 218us/step - loss: 0.9844 - acc: 0.6476 - val_loss: 1.3892 - val_acc: 0.5292\n",
      "Epoch 28/100\n",
      "50000/50000 [==============================] - 12s 240us/step - loss: 0.9706 - acc: 0.6539 - val_loss: 1.4070 - val_acc: 0.5316\n",
      "Epoch 29/100\n",
      "50000/50000 [==============================] - 13s 267us/step - loss: 0.9408 - acc: 0.6639 - val_loss: 1.4204 - val_acc: 0.5266\n",
      "Epoch 30/100\n",
      "50000/50000 [==============================] - 17s 343us/step - loss: 0.9265 - acc: 0.6681 - val_loss: 1.4284 - val_acc: 0.5333\n",
      "Epoch 31/100\n",
      "50000/50000 [==============================] - 16s 330us/step - loss: 0.9085 - acc: 0.6762 - val_loss: 1.4225 - val_acc: 0.5263\n",
      "Epoch 32/100\n",
      "50000/50000 [==============================] - 17s 337us/step - loss: 0.8925 - acc: 0.6810 - val_loss: 1.4454 - val_acc: 0.5264\n",
      "Epoch 33/100\n",
      "50000/50000 [==============================] - 16s 328us/step - loss: 0.8700 - acc: 0.6894 - val_loss: 1.4978 - val_acc: 0.5206\n",
      "Epoch 34/100\n",
      "50000/50000 [==============================] - 16s 321us/step - loss: 0.8548 - acc: 0.6925 - val_loss: 1.4722 - val_acc: 0.5301\n",
      "Epoch 35/100\n",
      "50000/50000 [==============================] - 17s 335us/step - loss: 0.8322 - acc: 0.7011 - val_loss: 1.5469 - val_acc: 0.5275\n",
      "Epoch 36/100\n",
      "50000/50000 [==============================] - 17s 338us/step - loss: 0.8169 - acc: 0.7075 - val_loss: 1.5016 - val_acc: 0.5296\n",
      "Epoch 37/100\n",
      "50000/50000 [==============================] - 17s 339us/step - loss: 0.8026 - acc: 0.7133 - val_loss: 1.5640 - val_acc: 0.5199\n",
      "Epoch 38/100\n",
      "50000/50000 [==============================] - 16s 324us/step - loss: 0.7804 - acc: 0.7213 - val_loss: 1.5502 - val_acc: 0.5247\n",
      "Epoch 39/100\n",
      "50000/50000 [==============================] - 17s 333us/step - loss: 0.7804 - acc: 0.7212 - val_loss: 1.5547 - val_acc: 0.5213\n",
      "Epoch 40/100\n",
      "50000/50000 [==============================] - 17s 346us/step - loss: 0.7609 - acc: 0.7268 - val_loss: 1.5861 - val_acc: 0.5269.7\n",
      "Epoch 41/100\n",
      "50000/50000 [==============================] - 18s 356us/step - loss: 0.7358 - acc: 0.7394 - val_loss: 1.6074 - val_acc: 0.5319\n",
      "Epoch 42/100\n",
      "50000/50000 [==============================] - 18s 357us/step - loss: 0.7236 - acc: 0.7392 - val_loss: 1.6675 - val_acc: 0.5123\n",
      "Epoch 43/100\n",
      "50000/50000 [==============================] - 18s 359us/step - loss: 0.7238 - acc: 0.7390 - val_loss: 1.5997 - val_acc: 0.5244\n",
      "Epoch 44/100\n",
      "50000/50000 [==============================] - 19s 375us/step - loss: 0.6979 - acc: 0.7519 - val_loss: 1.7469 - val_acc: 0.5207\n",
      "Epoch 45/100\n",
      "50000/50000 [==============================] - 16s 322us/step - loss: 0.6996 - acc: 0.7477 - val_loss: 1.7154 - val_acc: 0.5179\n",
      "Epoch 46/100\n",
      "50000/50000 [==============================] - 16s 321us/step - loss: 0.6680 - acc: 0.7622 - val_loss: 1.7266 - val_acc: 0.5212\n",
      "Epoch 47/100\n",
      "50000/50000 [==============================] - 16s 326us/step - loss: 0.6561 - acc: 0.7665 - val_loss: 1.8245 - val_acc: 0.5071\n",
      "Epoch 48/100\n",
      "50000/50000 [==============================] - 17s 333us/step - loss: 0.6531 - acc: 0.7666 - val_loss: 1.7571 - val_acc: 0.5198\n",
      "Epoch 49/100\n",
      "50000/50000 [==============================] - 16s 327us/step - loss: 0.6298 - acc: 0.7738 - val_loss: 1.7847 - val_acc: 0.5246\n",
      "Epoch 50/100\n",
      "50000/50000 [==============================] - 16s 327us/step - loss: 0.6232 - acc: 0.7768 - val_loss: 1.8239 - val_acc: 0.5284\n",
      "Epoch 51/100\n",
      "50000/50000 [==============================] - 17s 331us/step - loss: 0.5951 - acc: 0.7853 - val_loss: 1.8738 - val_acc: 0.5198\n",
      "Epoch 52/100\n",
      "50000/50000 [==============================] - 16s 327us/step - loss: 0.5934 - acc: 0.7865 - val_loss: 1.8795 - val_acc: 0.5125\n",
      "Epoch 53/100\n",
      "50000/50000 [==============================] - 17s 330us/step - loss: 0.5838 - acc: 0.7915 - val_loss: 1.8952 - val_acc: 0.5177\n",
      "Epoch 54/100\n",
      "50000/50000 [==============================] - 17s 335us/step - loss: 0.5734 - acc: 0.7945 - val_loss: 1.9070 - val_acc: 0.5206\n",
      "Epoch 55/100\n",
      "50000/50000 [==============================] - 16s 323us/step - loss: 0.5651 - acc: 0.7989 - val_loss: 1.9473 - val_acc: 0.5099\n",
      "Epoch 56/100\n",
      "50000/50000 [==============================] - 17s 335us/step - loss: 0.5492 - acc: 0.8032 - val_loss: 2.0394 - val_acc: 0.5067\n",
      "Epoch 57/100\n",
      "50000/50000 [==============================] - 16s 328us/step - loss: 0.5540 - acc: 0.8019 - val_loss: 1.9723 - val_acc: 0.5180\n",
      "Epoch 58/100\n"
     ]
    },
    {
     "name": "stdout",
     "output_type": "stream",
     "text": [
      "50000/50000 [==============================] - 16s 320us/step - loss: 0.5351 - acc: 0.8084 - val_loss: 2.1344 - val_acc: 0.5078\n",
      "Epoch 59/100\n",
      "50000/50000 [==============================] - 17s 334us/step - loss: 0.5281 - acc: 0.8106 - val_loss: 1.9988 - val_acc: 0.5181\n",
      "Epoch 60/100\n",
      "50000/50000 [==============================] - 17s 330us/step - loss: 0.5081 - acc: 0.8192 - val_loss: 2.0588 - val_acc: 0.5217\n",
      "Epoch 61/100\n",
      "50000/50000 [==============================] - 16s 321us/step - loss: 0.4941 - acc: 0.8236 - val_loss: 2.0907 - val_acc: 0.5159\n",
      "Epoch 62/100\n",
      "50000/50000 [==============================] - 16s 327us/step - loss: 0.4857 - acc: 0.8262 - val_loss: 2.1283 - val_acc: 0.5141\n",
      "Epoch 63/100\n",
      "50000/50000 [==============================] - 16s 319us/step - loss: 0.4728 - acc: 0.8307 - val_loss: 2.2651 - val_acc: 0.5044\n",
      "Epoch 64/100\n",
      "50000/50000 [==============================] - 19s 377us/step - loss: 0.4689 - acc: 0.8328 - val_loss: 2.2390 - val_acc: 0.5098\n",
      "Epoch 65/100\n",
      "50000/50000 [==============================] - 17s 337us/step - loss: 0.4666 - acc: 0.8328 - val_loss: 2.2119 - val_acc: 0.5143\n",
      "Epoch 66/100\n",
      "50000/50000 [==============================] - 17s 340us/step - loss: 0.4475 - acc: 0.8400 - val_loss: 2.2701 - val_acc: 0.5092 0.45\n",
      "Epoch 67/100\n",
      "50000/50000 [==============================] - 17s 349us/step - loss: 0.4263 - acc: 0.8493 - val_loss: 2.2637 - val_acc: 0.5199\n",
      "Epoch 68/100\n",
      "50000/50000 [==============================] - 17s 333us/step - loss: 0.4562 - acc: 0.8363 - val_loss: 2.2738 - val_acc: 0.5062\n",
      "Epoch 69/100\n",
      "50000/50000 [==============================] - 16s 317us/step - loss: 0.4323 - acc: 0.8436 - val_loss: 2.3498 - val_acc: 0.5126\n",
      "Epoch 70/100\n",
      "50000/50000 [==============================] - 16s 323us/step - loss: 0.4216 - acc: 0.8504 - val_loss: 2.3620 - val_acc: 0.5122\n",
      "Epoch 71/100\n",
      "50000/50000 [==============================] - 16s 319us/step - loss: 0.4133 - acc: 0.8532 - val_loss: 2.4311 - val_acc: 0.5153\n",
      "Epoch 72/100\n",
      "50000/50000 [==============================] - 16s 324us/step - loss: 0.3958 - acc: 0.8594 - val_loss: 2.4714 - val_acc: 0.5083\n",
      "Epoch 73/100\n",
      "50000/50000 [==============================] - 17s 338us/step - loss: 0.4037 - acc: 0.8546 - val_loss: 2.4566 - val_acc: 0.5133\n",
      "Epoch 74/100\n",
      "50000/50000 [==============================] - 17s 337us/step - loss: 0.3883 - acc: 0.8606 - val_loss: 2.4455 - val_acc: 0.5104\n",
      "Epoch 75/100\n",
      "50000/50000 [==============================] - 17s 347us/step - loss: 0.3906 - acc: 0.8602 - val_loss: 2.4963 - val_acc: 0.5114\n",
      "Epoch 76/100\n",
      "50000/50000 [==============================] - 17s 340us/step - loss: 0.3906 - acc: 0.8608 - val_loss: 2.4744 - val_acc: 0.5045\n",
      "Epoch 77/100\n",
      "50000/50000 [==============================] - 16s 326us/step - loss: 0.3883 - acc: 0.8604 - val_loss: 2.5777 - val_acc: 0.5051\n",
      "Epoch 78/100\n",
      "50000/50000 [==============================] - 16s 326us/step - loss: 0.3759 - acc: 0.8642 - val_loss: 2.5764 - val_acc: 0.5038\n",
      "Epoch 79/100\n",
      "50000/50000 [==============================] - 16s 329us/step - loss: 0.3499 - acc: 0.8752 - val_loss: 2.5934 - val_acc: 0.5063\n",
      "Epoch 80/100\n",
      "50000/50000 [==============================] - 16s 328us/step - loss: 0.3627 - acc: 0.8697 - val_loss: 2.6417 - val_acc: 0.5081\n",
      "Epoch 81/100\n",
      "50000/50000 [==============================] - 17s 350us/step - loss: 0.3510 - acc: 0.8744 - val_loss: 2.5737 - val_acc: 0.5126\n",
      "Epoch 82/100\n",
      "50000/50000 [==============================] - 17s 349us/step - loss: 0.3429 - acc: 0.8771 - val_loss: 2.7631 - val_acc: 0.4993\n",
      "Epoch 83/100\n",
      "50000/50000 [==============================] - 18s 362us/step - loss: 0.3467 - acc: 0.8756 - val_loss: 2.6720 - val_acc: 0.5098\n",
      "Epoch 84/100\n",
      "50000/50000 [==============================] - 19s 388us/step - loss: 0.3281 - acc: 0.8811 - val_loss: 2.7457 - val_acc: 0.5056\n",
      "Epoch 85/100\n",
      "50000/50000 [==============================] - 18s 360us/step - loss: 0.3531 - acc: 0.8721 - val_loss: 2.7732 - val_acc: 0.5077\n",
      "Epoch 86/100\n",
      "50000/50000 [==============================] - 18s 361us/step - loss: 0.3141 - acc: 0.8868 - val_loss: 2.7640 - val_acc: 0.5054\n",
      "Epoch 87/100\n",
      "50000/50000 [==============================] - 20s 397us/step - loss: 0.3200 - acc: 0.8846 - val_loss: 2.8386 - val_acc: 0.5043\n",
      "Epoch 88/100\n",
      "50000/50000 [==============================] - 18s 357us/step - loss: 0.3020 - acc: 0.8922 - val_loss: 2.9451 - val_acc: 0.4957\n",
      "Epoch 89/100\n",
      "50000/50000 [==============================] - 19s 388us/step - loss: 0.3078 - acc: 0.8894 - val_loss: 3.0173 - val_acc: 0.5003\n",
      "Epoch 90/100\n",
      "50000/50000 [==============================] - 19s 377us/step - loss: 0.3118 - acc: 0.8880 - val_loss: 2.9500 - val_acc: 0.4976\n",
      "Epoch 91/100\n",
      "50000/50000 [==============================] - 18s 367us/step - loss: 0.2952 - acc: 0.8935 - val_loss: 2.8835 - val_acc: 0.5054\n",
      "Epoch 92/100\n",
      "50000/50000 [==============================] - 20s 398us/step - loss: 0.3073 - acc: 0.8895 - val_loss: 3.0335 - val_acc: 0.4979\n",
      "Epoch 93/100\n",
      "50000/50000 [==============================] - 18s 364us/step - loss: 0.3172 - acc: 0.8859 - val_loss: 2.9136 - val_acc: 0.5023\n",
      "Epoch 94/100\n",
      "50000/50000 [==============================] - 18s 368us/step - loss: 0.2887 - acc: 0.8950 - val_loss: 3.0536 - val_acc: 0.5009\n",
      "Epoch 95/100\n",
      "50000/50000 [==============================] - 18s 355us/step - loss: 0.2857 - acc: 0.8975 - val_loss: 2.9594 - val_acc: 0.4963\n",
      "Epoch 96/100\n",
      "50000/50000 [==============================] - 18s 356us/step - loss: 0.2783 - acc: 0.9006 - val_loss: 3.0861 - val_acc: 0.5000\n",
      "Epoch 97/100\n",
      "50000/50000 [==============================] - 18s 370us/step - loss: 0.2933 - acc: 0.8944 - val_loss: 3.0832 - val_acc: 0.5039\n",
      "Epoch 98/100\n",
      "50000/50000 [==============================] - 18s 367us/step - loss: 0.2634 - acc: 0.9052 - val_loss: 3.0406 - val_acc: 0.5041\n",
      "Epoch 99/100\n",
      "50000/50000 [==============================] - 18s 357us/step - loss: 0.2867 - acc: 0.8986 - val_loss: 3.1596 - val_acc: 0.4970\n",
      "Epoch 100/100\n",
      "50000/50000 [==============================] - 19s 375us/step - loss: 0.2798 - acc: 0.8975 - val_loss: 3.0868 - val_acc: 0.5060\n"
     ]
    },
    {
     "data": {
      "text/plain": [
       "<keras.callbacks.History at 0x20ace656780>"
      ]
     },
     "execution_count": 10,
     "metadata": {},
     "output_type": "execute_result"
    }
   ],
   "source": [
    "model.fit(x_train, y_train, \n",
    "          epochs=EPOCHS, \n",
    "          batch_size=BATCH_SIZE, \n",
    "          validation_data=(x_test, y_test), \n",
    "          shuffle=True)"
   ]
  },
  {
   "cell_type": "code",
   "execution_count": 12,
   "metadata": {},
   "outputs": [
    {
     "data": {
      "image/png": "[encoded data removed]",
      "text/plain": [
       "<Figure size 432x288 with 1 Axes>"
      ]
     },
     "metadata": {
      "needs_background": "light"
     },
     "output_type": "display_data"
    },
    {
     "data": {
      "image/png": "[encoded data removed]",
      "text/plain": [
       "<Figure size 432x288 with 1 Axes>"
      ]
     },
     "metadata": {
      "needs_background": "light"
     },
     "output_type": "display_data"
    }
   ],
   "source": [
    "# 訓練模型並檢視驗證集的結果\n",
    "import matplotlib.pyplot as plt\n",
    "\n",
    "train_loss = model.history.history[\"loss\"]\n",
    "valid_loss = model.history.history[\"val_loss\"]\n",
    "\n",
    "train_acc = model.history.history[\"acc\"]\n",
    "valid_acc = model.history.history[\"val_acc\"]\n",
    "\n",
    "plt.plot(range(len(train_loss)), train_loss, label=\"train loss\")\n",
    "plt.plot(range(len(valid_loss)), valid_loss, label=\"valid loss\")\n",
    "plt.legend()\n",
    "plt.title(\"Loss\")\n",
    "plt.show()\n",
    "\n",
    "plt.plot(range(len(train_acc)), train_acc, label=\"train accuracy\")\n",
    "plt.plot(range(len(valid_acc)), valid_acc, label=\"valid accuracy\")\n",
    "plt.legend()\n",
    "plt.title(\"Accuracy\")\n",
    "plt.show()"
   ]
  },
  {
   "cell_type": "markdown",
   "metadata": {},
   "source": [
    "## Work\n",
    "1. 請嘗試將 preproc_x 替換成以每筆資料的 min/max 進行標準化至 -1 ~ 1 間，再進行訓練\n",
    "2. 請嘗試將 mlp 疊更深 (e.g 5~10 層)，進行訓練後觀察 learning curve 的走勢\n",
    "3. (optional) 請改用 GPU 進行訓練 (如果你有 GPU 的話)，比較使用 CPU 與 GPU 的訓練速度"
   ]
  }
 ],
 "metadata": {
  "kernelspec": {
   "display_name": "Python 3",
   "language": "python",
   "name": "python3"
  },
  "language_info": {
   "codemirror_mode": {
    "name": "ipython",
    "version": 3
   },
   "file_extension": ".py",
   "mimetype": "text/x-python",
   "name": "python",
   "nbconvert_exporter": "python",
   "pygments_lexer": "ipython3",
   "version": "3.7.3"
  }
 },
 "nbformat": 4,
 "nbformat_minor": 2
}
