{
 "cells": [
  {
   "cell_type": "markdown",
   "metadata": {},
   "source": [
    "## Work\n",
    "1. 試比較 save_best_only 與否的差異\n",
    "2. 請僅存入將 save_weights_only 設定為 True, 並嘗試 reset ipynb 並將模型與權重重新建回並預測 x_test"
   ]
  },
  {
   "cell_type": "code",
   "execution_count": 1,
   "metadata": {},
   "outputs": [
    {
     "name": "stderr",
     "output_type": "stream",
     "text": [
      "Using TensorFlow backend.\n"
     ]
    }
   ],
   "source": [
    "import os \n",
    "import keras\n",
    "\n",
    "# Disable GPU\n",
    "os.environ[\"CUDA_VISIBLE_DEVICES\"] = \"0\""
   ]
  },
  {
   "cell_type": "code",
   "execution_count": 2,
   "metadata": {},
   "outputs": [],
   "source": [
    "train, test = keras.datasets.cifar10.load_data()"
   ]
  },
  {
   "cell_type": "code",
   "execution_count": 3,
   "metadata": {},
   "outputs": [],
   "source": [
    "## 資料前處理\n",
    "def preproc_x(x, flatten=True):\n",
    "    x = x / 255.\n",
    "    if flatten:\n",
    "        x = x.reshape((len(x), -1))\n",
    "    return x\n",
    "\n",
    "def preproc_y(y, num_classes=10):\n",
    "    if y.shape[-1] == 1:\n",
    "        y = keras.utils.to_categorical(y, num_classes)\n",
    "    return y    "
   ]
  },
  {
   "cell_type": "code",
   "execution_count": 4,
   "metadata": {},
   "outputs": [],
   "source": [
    "x_train, y_train = train\n",
    "x_test, y_test = test\n",
    "\n",
    "# Preproc the inputs\n",
    "x_train = preproc_x(x_train)\n",
    "x_test = preproc_x(x_test)\n",
    "\n",
    "# Preprc the outputs\n",
    "y_train = preproc_y(y_train)\n",
    "y_test = preproc_y(y_test)"
   ]
  },
  {
   "cell_type": "code",
   "execution_count": 5,
   "metadata": {},
   "outputs": [],
   "source": [
    "from keras.layers import BatchNormalization\n",
    "\n",
    "\"\"\"\n",
    "建立神經網路，並加入 BN layer\n",
    "\"\"\"\n",
    "def build_mlp(input_shape, output_units=10, num_neurons=[512, 256, 128]):\n",
    "    input_layer = keras.layers.Input(input_shape)\n",
    "    \n",
    "    for i, n_units in enumerate(num_neurons):\n",
    "        if i == 0:\n",
    "            x = keras.layers.Dense(units=n_units, \n",
    "                                   activation=\"relu\", \n",
    "                                   name=\"hidden_layer\"+str(i+1))(input_layer)\n",
    "            x = BatchNormalization()(x)\n",
    "        else:\n",
    "            x = keras.layers.Dense(units=n_units, \n",
    "                                   activation=\"relu\", \n",
    "                                   name=\"hidden_layer\"+str(i+1))(x)\n",
    "            x = BatchNormalization()(x)\n",
    "    \n",
    "    out = keras.layers.Dense(units=output_units, activation=\"softmax\", name=\"output\")(x)\n",
    "    \n",
    "    model = keras.models.Model(inputs=[input_layer], outputs=[out])\n",
    "    return model"
   ]
  },
  {
   "cell_type": "code",
   "execution_count": 6,
   "metadata": {},
   "outputs": [],
   "source": [
    "## 超參數設定\n",
    "LEARNING_RATE = 1e-3\n",
    "EPOCHS = 50\n",
    "BATCH_SIZE = 1024\n",
    "MOMENTUM = 0.95"
   ]
  },
  {
   "cell_type": "code",
   "execution_count": 7,
   "metadata": {},
   "outputs": [],
   "source": [
    "# 載入 Callbacks\n",
    "from keras.callbacks import ModelCheckpoint\n",
    "\n",
    "model_ckpt = ModelCheckpoint(filepath=\"./tmp.h5\", \n",
    "                             monitor=\"val_loss\", \n",
    "                             save_best_only=True)"
   ]
  },
  {
   "cell_type": "code",
   "execution_count": 8,
   "metadata": {},
   "outputs": [
    {
     "name": "stderr",
     "output_type": "stream",
     "text": [
      "WARNING: Logging before flag parsing goes to stderr.\n",
      "W0730 10:17:31.723837  9768 deprecation_wrapper.py:119] From C:\\Users\\user\\Anaconda3\\lib\\site-packages\\keras\\backend\\tensorflow_backend.py:74: The name tf.get_default_graph is deprecated. Please use tf.compat.v1.get_default_graph instead.\n",
      "\n",
      "W0730 10:18:04.502496  9768 deprecation_wrapper.py:119] From C:\\Users\\user\\Anaconda3\\lib\\site-packages\\keras\\backend\\tensorflow_backend.py:517: The name tf.placeholder is deprecated. Please use tf.compat.v1.placeholder instead.\n",
      "\n",
      "W0730 10:18:09.499195  9768 deprecation_wrapper.py:119] From C:\\Users\\user\\Anaconda3\\lib\\site-packages\\keras\\backend\\tensorflow_backend.py:4138: The name tf.random_uniform is deprecated. Please use tf.random.uniform instead.\n",
      "\n",
      "W0730 10:18:18.042876  9768 deprecation_wrapper.py:119] From C:\\Users\\user\\Anaconda3\\lib\\site-packages\\keras\\backend\\tensorflow_backend.py:133: The name tf.placeholder_with_default is deprecated. Please use tf.compat.v1.placeholder_with_default instead.\n",
      "\n",
      "W0730 10:18:28.546378  9768 deprecation_wrapper.py:119] From C:\\Users\\user\\Anaconda3\\lib\\site-packages\\keras\\optimizers.py:790: The name tf.train.Optimizer is deprecated. Please use tf.compat.v1.train.Optimizer instead.\n",
      "\n",
      "W0730 10:18:28.551365  9768 deprecation_wrapper.py:119] From C:\\Users\\user\\Anaconda3\\lib\\site-packages\\keras\\backend\\tensorflow_backend.py:3295: The name tf.log is deprecated. Please use tf.math.log instead.\n",
      "\n"
     ]
    },
    {
     "name": "stdout",
     "output_type": "stream",
     "text": [
      "_________________________________________________________________\n",
      "Layer (type)                 Output Shape              Param #   \n",
      "=================================================================\n",
      "input_1 (InputLayer)         (None, 3072)              0         \n",
      "_________________________________________________________________\n",
      "hidden_layer1 (Dense)        (None, 512)               1573376   \n",
      "_________________________________________________________________\n",
      "batch_normalization_1 (Batch (None, 512)               2048      \n",
      "_________________________________________________________________\n",
      "hidden_layer2 (Dense)        (None, 256)               131328    \n",
      "_________________________________________________________________\n",
      "batch_normalization_2 (Batch (None, 256)               1024      \n",
      "_________________________________________________________________\n",
      "hidden_layer3 (Dense)        (None, 128)               32896     \n",
      "_________________________________________________________________\n",
      "batch_normalization_3 (Batch (None, 128)               512       \n",
      "_________________________________________________________________\n",
      "output (Dense)               (None, 10)                1290      \n",
      "=================================================================\n",
      "Total params: 1,742,474\n",
      "Trainable params: 1,740,682\n",
      "Non-trainable params: 1,792\n",
      "_________________________________________________________________\n"
     ]
    },
    {
     "name": "stderr",
     "output_type": "stream",
     "text": [
      "W0730 10:18:29.082005  9768 deprecation.py:323] From C:\\Users\\user\\Anaconda3\\lib\\site-packages\\tensorflow\\python\\ops\\math_grad.py:1250: add_dispatch_support.<locals>.wrapper (from tensorflow.python.ops.array_ops) is deprecated and will be removed in a future version.\n",
      "Instructions for updating:\n",
      "Use tf.where in 2.0, which has the same broadcast rule as np.where\n"
     ]
    },
    {
     "name": "stdout",
     "output_type": "stream",
     "text": [
      "Train on 50000 samples, validate on 10000 samples\n",
      "Epoch 1/50\n",
      "50000/50000 [==============================] - 30s 600us/step - loss: 2.1984 - acc: 0.2672 - val_loss: 2.1051 - val_acc: 0.3148\n",
      "Epoch 2/50\n",
      "50000/50000 [==============================] - 5s 99us/step - loss: 1.7492 - acc: 0.3906 - val_loss: 1.7945 - val_acc: 0.3838\n",
      "Epoch 3/50\n",
      "50000/50000 [==============================] - 5s 101us/step - loss: 1.6226 - acc: 0.4340 - val_loss: 1.6807 - val_acc: 0.4165\n",
      "Epoch 4/50\n",
      "50000/50000 [==============================] - 5s 97us/step - loss: 1.5473 - acc: 0.4613 - val_loss: 1.6306 - val_acc: 0.4282\n",
      "Epoch 5/50\n",
      "50000/50000 [==============================] - 5s 106us/step - loss: 1.4940 - acc: 0.4794 - val_loss: 1.6086 - val_acc: 0.4378\n",
      "Epoch 6/50\n",
      "50000/50000 [==============================] - 5s 100us/step - loss: 1.4466 - acc: 0.4941 - val_loss: 1.5719 - val_acc: 0.4487\n",
      "Epoch 7/50\n",
      "50000/50000 [==============================] - 5s 95us/step - loss: 1.4037 - acc: 0.5095 - val_loss: 1.5427 - val_acc: 0.4598\n",
      "Epoch 8/50\n",
      "50000/50000 [==============================] - 5s 104us/step - loss: 1.3693 - acc: 0.5231 - val_loss: 1.5332 - val_acc: 0.4640\n",
      "Epoch 9/50\n",
      "50000/50000 [==============================] - 5s 102us/step - loss: 1.3343 - acc: 0.5364 - val_loss: 1.5117 - val_acc: 0.4650\n",
      "Epoch 10/50\n",
      "50000/50000 [==============================] - 5s 105us/step - loss: 1.3045 - acc: 0.5467 - val_loss: 1.4947 - val_acc: 0.4738\n",
      "Epoch 11/50\n",
      "50000/50000 [==============================] - 5s 109us/step - loss: 1.2754 - acc: 0.5579 - val_loss: 1.5072 - val_acc: 0.4705\n",
      "Epoch 12/50\n",
      "50000/50000 [==============================] - 5s 102us/step - loss: 1.2462 - acc: 0.5683 - val_loss: 1.4844 - val_acc: 0.4769\n",
      "Epoch 13/50\n",
      "50000/50000 [==============================] - 6s 114us/step - loss: 1.2212 - acc: 0.5774 - val_loss: 1.4793 - val_acc: 0.4848\n",
      "Epoch 14/50\n",
      "50000/50000 [==============================] - 5s 102us/step - loss: 1.1948 - acc: 0.5871 - val_loss: 1.4745 - val_acc: 0.4739\n",
      "Epoch 15/50\n",
      "50000/50000 [==============================] - 5s 97us/step - loss: 1.1706 - acc: 0.5953 - val_loss: 1.4736 - val_acc: 0.4812\n",
      "Epoch 16/50\n",
      "50000/50000 [==============================] - 5s 101us/step - loss: 1.1455 - acc: 0.6060 - val_loss: 1.4646 - val_acc: 0.4853\n",
      "Epoch 17/50\n",
      "50000/50000 [==============================] - 6s 112us/step - loss: 1.1217 - acc: 0.6136 - val_loss: 1.4503 - val_acc: 0.4869\n",
      "Epoch 18/50\n",
      "50000/50000 [==============================] - 6s 124us/step - loss: 1.0976 - acc: 0.6247 - val_loss: 1.4548 - val_acc: 0.4902\n",
      "Epoch 19/50\n",
      "50000/50000 [==============================] - 7s 134us/step - loss: 1.0746 - acc: 0.6317 - val_loss: 1.4516 - val_acc: 0.4911\n",
      "Epoch 20/50\n",
      "50000/50000 [==============================] - 7s 136us/step - loss: 1.0528 - acc: 0.6410 - val_loss: 1.4554 - val_acc: 0.4875\n",
      "Epoch 21/50\n",
      "50000/50000 [==============================] - 7s 136us/step - loss: 1.0321 - acc: 0.6500 - val_loss: 1.4578 - val_acc: 0.4901\n",
      "Epoch 22/50\n",
      "50000/50000 [==============================] - 7s 138us/step - loss: 1.0098 - acc: 0.6572 - val_loss: 1.4643 - val_acc: 0.4901\n",
      "Epoch 23/50\n",
      "50000/50000 [==============================] - 7s 136us/step - loss: 0.9881 - acc: 0.6658 - val_loss: 1.4537 - val_acc: 0.4964\n",
      "Epoch 24/50\n",
      "50000/50000 [==============================] - 6s 129us/step - loss: 0.9678 - acc: 0.6741 - val_loss: 1.4726 - val_acc: 0.4912\n",
      "Epoch 25/50\n",
      "50000/50000 [==============================] - 6s 128us/step - loss: 0.9449 - acc: 0.6825 - val_loss: 1.4709 - val_acc: 0.4911\n",
      "Epoch 26/50\n",
      "50000/50000 [==============================] - 7s 131us/step - loss: 0.9272 - acc: 0.6894 - val_loss: 1.4758 - val_acc: 0.4926\n",
      "Epoch 27/50\n",
      "50000/50000 [==============================] - 7s 150us/step - loss: 0.9059 - acc: 0.6998 - val_loss: 1.4711 - val_acc: 0.4928\n",
      "Epoch 28/50\n",
      "50000/50000 [==============================] - 7s 141us/step - loss: 0.8837 - acc: 0.7072 - val_loss: 1.4656 - val_acc: 0.4984\n",
      "Epoch 29/50\n",
      "50000/50000 [==============================] - 7s 149us/step - loss: 0.8643 - acc: 0.7134 - val_loss: 1.4810 - val_acc: 0.4929\n",
      "Epoch 30/50\n",
      "50000/50000 [==============================] - 7s 139us/step - loss: 0.8441 - acc: 0.7225 - val_loss: 1.4937 - val_acc: 0.4951\n",
      "Epoch 31/50\n",
      "50000/50000 [==============================] - 7s 139us/step - loss: 0.8238 - acc: 0.7311 - val_loss: 1.4755 - val_acc: 0.4964\n",
      "Epoch 32/50\n",
      "50000/50000 [==============================] - 6s 127us/step - loss: 0.8069 - acc: 0.7354 - val_loss: 1.5134 - val_acc: 0.4935\n",
      "Epoch 33/50\n",
      "50000/50000 [==============================] - 6s 127us/step - loss: 0.7854 - acc: 0.7462 - val_loss: 1.4947 - val_acc: 0.4954\n",
      "Epoch 34/50\n",
      "50000/50000 [==============================] - 7s 140us/step - loss: 0.7666 - acc: 0.7539 - val_loss: 1.5300 - val_acc: 0.4878\n",
      "Epoch 35/50\n",
      "50000/50000 [==============================] - 7s 140us/step - loss: 0.7473 - acc: 0.7596 - val_loss: 1.5210 - val_acc: 0.4927\n",
      "Epoch 36/50\n",
      "50000/50000 [==============================] - 7s 136us/step - loss: 0.7280 - acc: 0.7696 - val_loss: 1.5255 - val_acc: 0.4895\n",
      "Epoch 37/50\n",
      "50000/50000 [==============================] - 7s 146us/step - loss: 0.7079 - acc: 0.7767 - val_loss: 1.5297 - val_acc: 0.4908\n",
      "Epoch 38/50\n",
      "50000/50000 [==============================] - 6s 128us/step - loss: 0.6880 - acc: 0.7838 - val_loss: 1.5297 - val_acc: 0.4943\n",
      "Epoch 39/50\n",
      "50000/50000 [==============================] - 7s 131us/step - loss: 0.6719 - acc: 0.7899 - val_loss: 1.5584 - val_acc: 0.4942\n",
      "Epoch 40/50\n",
      "50000/50000 [==============================] - 7s 131us/step - loss: 0.6541 - acc: 0.7973 - val_loss: 1.5598 - val_acc: 0.4919\n",
      "Epoch 41/50\n",
      "50000/50000 [==============================] - 8s 152us/step - loss: 0.6339 - acc: 0.8053 - val_loss: 1.5657 - val_acc: 0.4957\n",
      "Epoch 42/50\n",
      "50000/50000 [==============================] - 8s 168us/step - loss: 0.6175 - acc: 0.8141 - val_loss: 1.5947 - val_acc: 0.4805\n",
      "Epoch 43/50\n",
      "50000/50000 [==============================] - 7s 146us/step - loss: 0.5979 - acc: 0.8191 - val_loss: 1.5997 - val_acc: 0.4897\n",
      "Epoch 44/50\n",
      "50000/50000 [==============================] - 7s 142us/step - loss: 0.5809 - acc: 0.8264 - val_loss: 1.6067 - val_acc: 0.4922\n",
      "Epoch 45/50\n",
      "50000/50000 [==============================] - 7s 147us/step - loss: 0.5628 - acc: 0.8334 - val_loss: 1.6268 - val_acc: 0.4874\n",
      "Epoch 46/50\n",
      "50000/50000 [==============================] - 7s 149us/step - loss: 0.5463 - acc: 0.8407 - val_loss: 1.6279 - val_acc: 0.4889\n",
      "Epoch 47/50\n",
      "50000/50000 [==============================] - 7s 143us/step - loss: 0.5294 - acc: 0.8470 - val_loss: 1.6302 - val_acc: 0.4903\n",
      "Epoch 48/50\n",
      "50000/50000 [==============================] - 7s 147us/step - loss: 0.5124 - acc: 0.8565 - val_loss: 1.6601 - val_acc: 0.4879\n",
      "Epoch 49/50\n",
      "50000/50000 [==============================] - 8s 157us/step - loss: 0.4965 - acc: 0.8613 - val_loss: 1.6760 - val_acc: 0.4856\n",
      "Epoch 50/50\n",
      "50000/50000 [==============================] - 7s 140us/step - loss: 0.4800 - acc: 0.8673 - val_loss: 1.6682 - val_acc: 0.4908\n"
     ]
    }
   ],
   "source": [
    "model = build_mlp(input_shape=x_train.shape[1:])\n",
    "model.summary()\n",
    "optimizer = keras.optimizers.SGD(lr=LEARNING_RATE, nesterov=True, momentum=MOMENTUM)\n",
    "model.compile(loss=\"categorical_crossentropy\", metrics=[\"accuracy\"], optimizer=optimizer)\n",
    "\n",
    "model.fit(x_train, y_train, \n",
    "          epochs=EPOCHS, \n",
    "          batch_size=BATCH_SIZE, \n",
    "          validation_data=(x_test, y_test), \n",
    "          shuffle=True,\n",
    "          callbacks=[model_ckpt]\n",
    "         )\n",
    "model.save(\"final_model.h5\")\n",
    "model.save_weights(\"model_weights.h5\")\n",
    "# Collect results\n",
    "train_loss = model.history.history[\"loss\"]\n",
    "valid_loss = model.history.history[\"val_loss\"]\n",
    "train_acc = model.history.history[\"acc\"]\n",
    "valid_acc = model.history.history[\"val_acc\"]\n",
    "\n",
    "pred_final = model.predict(x_test)\n",
    "# Load back\n",
    "model = keras.models.load_model(\"./tmp.h5\")\n",
    "pred_loadback = model.predict(x_test)"
   ]
  },
  {
   "cell_type": "code",
   "execution_count": 12,
   "metadata": {},
   "outputs": [
    {
     "name": "stdout",
     "output_type": "stream",
     "text": [
      "Accuracy of final weights: 0.491\n",
      "Accuracy of best weights: 0.487\n"
     ]
    }
   ],
   "source": [
    "from sklearn.metrics import accuracy_score\n",
    "\n",
    "final_model_acc = accuracy_score(y_true=y_test.argmax(axis=-1), y_pred=pred_final.argmax(axis=-1))\n",
    "loadback_acc = accuracy_score(y_true=y_test.argmax(axis=-1), y_pred=pred_loadback.argmax(axis=-1))\n",
    "\n",
    "print(\"Accuracy of final weights: %.3f\" % final_model_acc)\n",
    "print(\"Accuracy of best weights: %.3f\" % loadback_acc)"
   ]
  },
  {
   "cell_type": "code",
   "execution_count": 11,
   "metadata": {
    "scrolled": true
   },
   "outputs": [
    {
     "name": "stdout",
     "output_type": "stream",
     "text": [
      "Accuracy of best weights: 0.100\n",
      "Accuracy of best weights: 0.491\n"
     ]
    }
   ],
   "source": [
    "new_model = build_mlp(input_shape=x_train.shape[1:])\n",
    "new_model_pred = new_model.predict(x_test)\n",
    "new_model_acc = accuracy_score(y_true=y_test.argmax(axis=-1), y_pred=new_model_pred.argmax(axis=-1))\n",
    "print(\"Accuracy of best weights: %.3f\" % new_model_acc)\n",
    "\n",
    "new_model.load_weights(\"./model_weights.h5\")\n",
    "new_model_pred = new_model.predict(x_test)\n",
    "new_model_loadback_acc = accuracy_score(y_true=y_test.argmax(axis=-1), y_pred=new_model_pred.argmax(axis=-1))\n",
    "print(\"Accuracy of best weights: %.3f\" % new_model_loadback_acc)"
   ]
  }
 ],
 "metadata": {
  "kernelspec": {
   "display_name": "Python 3",
   "language": "python",
   "name": "python3"
  },
  "language_info": {
   "codemirror_mode": {
    "name": "ipython",
    "version": 3
   },
   "file_extension": ".py",
   "mimetype": "text/x-python",
   "name": "python",
   "nbconvert_exporter": "python",
   "pygments_lexer": "ipython3",
   "version": "3.7.3"
  }
 },
 "nbformat": 4,
 "nbformat_minor": 2
}
