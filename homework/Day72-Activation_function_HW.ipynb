{
 "cells": [
  {
   "cell_type": "markdown",
   "metadata": {},
   "source": [
    "# 作業目標:\n",
    "    寫出 ReLU & dReLU 一階導數\n",
    "    並列印\n"
   ]
  },
  {
   "cell_type": "markdown",
   "metadata": {},
   "source": [
    "# 作業重點\n",
    "\n",
    "# Rectified Linear Unit- Relu \n",
    "\n",
    "f(x)=max(0,x)\n"
   ]
  },
  {
   "cell_type": "code",
   "execution_count": 1,
   "metadata": {},
   "outputs": [],
   "source": [
    "import numpy as np\n",
    "from numpy import *\n",
    "import matplotlib.pylab as plt\n",
    "%matplotlib inline\n",
    "\n",
    "#ReLU 數學函數表示方式\n",
    "def ReLU(x):\n",
    "    return abs(x)*(x>0)\n",
    "\n",
    "#dReLU 數學函數表示方式\n",
    "def dReLU(x):\n",
    "    return (1*(x>0))"
   ]
  },
  {
   "cell_type": "code",
   "execution_count": 2,
   "metadata": {},
   "outputs": [
    {
     "data": {
      "image/png": "[encoded data removed]",
      "text/plain": [
       "<Figure size 432x288 with 1 Axes>"
      ]
     },
     "metadata": {
      "needs_background": "light"
     },
     "output_type": "display_data"
    }
   ],
   "source": [
    "# linespace generate an array from start and stop value\n",
    "# with requested number of elements. Example 10 elements or 100 elements.\n",
    "x = plt.linspace(-10,10,100)\n",
    "\n",
    "# prepare the plot, associate the color r(ed) or b(lue) and the label \n",
    "plt.plot(x, ReLU(x), 'r', label='linspace(-10,10,10)')\n",
    "plt.plot(x, dReLU(x), 'b', label='linspace(-10,10,10)')\n",
    "\n",
    "# Draw the grid line in background.\n",
    "plt.grid()\n",
    "\n",
    "# 顯現圖示的Title\n",
    "plt.title('ReLU&dReLU Function')\n",
    "\n",
    "\n",
    "# create the graph\n",
    "plt.show()"
   ]
  }
 ],
 "metadata": {
  "kernelspec": {
   "display_name": "Python 3",
   "language": "python",
   "name": "python3"
  },
  "language_info": {
   "codemirror_mode": {
    "name": "ipython",
    "version": 3
   },
   "file_extension": ".py",
   "mimetype": "text/x-python",
   "name": "python",
   "nbconvert_exporter": "python",
   "pygments_lexer": "ipython3",
   "version": "3.7.3"
  }
 },
 "nbformat": 4,
 "nbformat_minor": 2
}
