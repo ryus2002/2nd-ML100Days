{
 "cells": [
  {
   "cell_type": "markdown",
   "metadata": {},
   "source": [
    "## Work\n",
    "1. 請嘗試將 preproc_x 替換成以每筆資料的 min/max 進行標準化至 -1 ~ 1 間，再進行訓練\n",
    "2. 請嘗試將 mlp 疊更深 (e.g 5~10 層)，進行訓練後觀察 learning curve 的走勢\n",
    "3. (optional) 請改用 GPU 進行訓練 (如果你有 GPU 的話)，比較使用 CPU 與 GPU 的訓練速度"
   ]
  },
  {
   "cell_type": "code",
   "execution_count": 1,
   "metadata": {},
   "outputs": [
    {
     "data": {
      "text/plain": [
       "'\\nYour code here (optional)\\n確認硬體資源\\n'"
      ]
     },
     "execution_count": 1,
     "metadata": {},
     "output_type": "execute_result"
    }
   ],
   "source": [
    "## \n",
    "\"\"\"\n",
    "Your code here (optional)\n",
    "確認硬體資源\n",
    "\"\"\"\n"
   ]
  },
  {
   "cell_type": "code",
   "execution_count": 2,
   "metadata": {},
   "outputs": [
    {
     "name": "stderr",
     "output_type": "stream",
     "text": [
      "Using TensorFlow backend.\n"
     ]
    }
   ],
   "source": [
    "import os\n",
    "import keras\n",
    "\n",
    "# 請嘗試設定 GPU：os.environ\n",
    "os.environ[\"CUDA_VISIBLE_DEVICES\"] = \"0\""
   ]
  },
  {
   "cell_type": "code",
   "execution_count": 3,
   "metadata": {},
   "outputs": [],
   "source": [
    "train, test = keras.datasets.cifar10.load_data()"
   ]
  },
  {
   "cell_type": "code",
   "execution_count": 4,
   "metadata": {},
   "outputs": [],
   "source": [
    "## 資料前處理\n",
    "def preproc_x(x, flatten=True):\n",
    "    x = x / 255.\n",
    "    if flatten:\n",
    "        x = x.reshape((len(x), -1))\n",
    "    return x\n",
    "\n",
    "def preproc_y(y, num_classes=10):\n",
    "    if y.shape[-1] == 1:\n",
    "        y = keras.utils.to_categorical(y, num_classes)\n",
    "    return y    "
   ]
  },
  {
   "cell_type": "code",
   "execution_count": 5,
   "metadata": {},
   "outputs": [],
   "source": [
    "x_train, y_train = train\n",
    "x_test, y_test = test\n",
    "\n",
    "# Preproc the inputs\n",
    "x_train = preproc_x(x_train)\n",
    "x_test = preproc_x(x_test)\n",
    "\n",
    "# Preprc the outputs\n",
    "y_train = preproc_y(y_train)\n",
    "y_test = preproc_y(y_test)"
   ]
  },
  {
   "cell_type": "code",
   "execution_count": 6,
   "metadata": {},
   "outputs": [],
   "source": [
    "def build_mlp(input_shape, output_units=10, num_neurons=[512, 256, 128]):\n",
    "    input_layer = keras.layers.Input(input_shape)\n",
    "    \n",
    "    for i, n_units in enumerate(num_neurons):\n",
    "        if i == 0:\n",
    "            x = keras.layers.Dense(units=n_units, activation=\"relu\", name=\"hidden_layer\"+str(i+1))(input_layer)\n",
    "        else:\n",
    "            x = keras.layers.Dense(units=n_units, activation=\"relu\", name=\"hidden_layer\"+str(i+1))(x)\n",
    "    \n",
    "    out = keras.layers.Dense(units=output_units, activation=\"softmax\", name=\"output\")(x)\n",
    "    \n",
    "    model = keras.models.Model(inputs=[input_layer], outputs=[out])\n",
    "    return model"
   ]
  },
  {
   "cell_type": "code",
   "execution_count": 7,
   "metadata": {},
   "outputs": [
    {
     "name": "stderr",
     "output_type": "stream",
     "text": [
      "WARNING: Logging before flag parsing goes to stderr.\n",
      "W0726 10:24:20.141891  8196 deprecation_wrapper.py:119] From C:\\Users\\user\\Anaconda3\\lib\\site-packages\\keras\\backend\\tensorflow_backend.py:74: The name tf.get_default_graph is deprecated. Please use tf.compat.v1.get_default_graph instead.\n",
      "\n",
      "W0726 10:24:39.739475  8196 deprecation_wrapper.py:119] From C:\\Users\\user\\Anaconda3\\lib\\site-packages\\keras\\backend\\tensorflow_backend.py:517: The name tf.placeholder is deprecated. Please use tf.compat.v1.placeholder instead.\n",
      "\n",
      "W0726 10:24:43.973153  8196 deprecation_wrapper.py:119] From C:\\Users\\user\\Anaconda3\\lib\\site-packages\\keras\\backend\\tensorflow_backend.py:4138: The name tf.random_uniform is deprecated. Please use tf.random.uniform instead.\n",
      "\n"
     ]
    },
    {
     "name": "stdout",
     "output_type": "stream",
     "text": [
      "_________________________________________________________________\n",
      "Layer (type)                 Output Shape              Param #   \n",
      "=================================================================\n",
      "input_1 (InputLayer)         (None, 3072)              0         \n",
      "_________________________________________________________________\n",
      "hidden_layer1 (Dense)        (None, 512)               1573376   \n",
      "_________________________________________________________________\n",
      "hidden_layer2 (Dense)        (None, 256)               131328    \n",
      "_________________________________________________________________\n",
      "hidden_layer3 (Dense)        (None, 128)               32896     \n",
      "_________________________________________________________________\n",
      "output (Dense)               (None, 10)                1290      \n",
      "=================================================================\n",
      "Total params: 1,738,890\n",
      "Trainable params: 1,738,890\n",
      "Non-trainable params: 0\n",
      "_________________________________________________________________\n"
     ]
    }
   ],
   "source": [
    "model = build_mlp(input_shape=x_train.shape[1:])\n",
    "model.summary()"
   ]
  },
  {
   "cell_type": "code",
   "execution_count": 8,
   "metadata": {},
   "outputs": [],
   "source": [
    "## 超參數設定\n",
    "LEARNING_RATE = 0.001\n",
    "EPOCHS = 100\n",
    "BATCH_SIZE = 256"
   ]
  },
  {
   "cell_type": "code",
   "execution_count": 9,
   "metadata": {},
   "outputs": [
    {
     "name": "stderr",
     "output_type": "stream",
     "text": [
      "W0726 10:24:45.734442  8196 deprecation_wrapper.py:119] From C:\\Users\\user\\Anaconda3\\lib\\site-packages\\keras\\optimizers.py:790: The name tf.train.Optimizer is deprecated. Please use tf.compat.v1.train.Optimizer instead.\n",
      "\n",
      "W0726 10:24:45.810239  8196 deprecation_wrapper.py:119] From C:\\Users\\user\\Anaconda3\\lib\\site-packages\\keras\\backend\\tensorflow_backend.py:3295: The name tf.log is deprecated. Please use tf.math.log instead.\n",
      "\n"
     ]
    }
   ],
   "source": [
    "optimizer = keras.optimizers.Adam(lr=LEARNING_RATE)\n",
    "model.compile(loss=\"categorical_crossentropy\", metrics=[\"accuracy\"], optimizer=optimizer)"
   ]
  },
  {
   "cell_type": "code",
   "execution_count": 10,
   "metadata": {},
   "outputs": [
    {
     "name": "stderr",
     "output_type": "stream",
     "text": [
      "W0726 10:24:48.428236  8196 deprecation.py:323] From C:\\Users\\user\\Anaconda3\\lib\\site-packages\\tensorflow\\python\\ops\\math_grad.py:1250: add_dispatch_support.<locals>.wrapper (from tensorflow.python.ops.array_ops) is deprecated and will be removed in a future version.\n",
      "Instructions for updating:\n",
      "Use tf.where in 2.0, which has the same broadcast rule as np.where\n",
      "W0726 10:24:48.584817  8196 deprecation_wrapper.py:119] From C:\\Users\\user\\Anaconda3\\lib\\site-packages\\keras\\backend\\tensorflow_backend.py:986: The name tf.assign_add is deprecated. Please use tf.compat.v1.assign_add instead.\n",
      "\n"
     ]
    },
    {
     "name": "stdout",
     "output_type": "stream",
     "text": [
      "Train on 50000 samples, validate on 10000 samples\n",
      "Epoch 1/100\n",
      "50000/50000 [==============================] - 79s 2ms/step - loss: 1.9401 - acc: 0.2981 - val_loss: 1.7864 - val_acc: 0.3638\n",
      "Epoch 2/100\n",
      "50000/50000 [==============================] - 17s 334us/step - loss: 1.7063 - acc: 0.3898 - val_loss: 1.6210 - val_acc: 0.4202\n",
      "Epoch 3/100\n",
      "50000/50000 [==============================] - 16s 319us/step - loss: 1.6173 - acc: 0.4213 - val_loss: 1.6006 - val_acc: 0.4231\n",
      "Epoch 4/100\n",
      "50000/50000 [==============================] - 16s 326us/step - loss: 1.5490 - acc: 0.4461 - val_loss: 1.5791 - val_acc: 0.4354\n",
      "Epoch 5/100\n",
      "50000/50000 [==============================] - 16s 328us/step - loss: 1.4984 - acc: 0.4655 - val_loss: 1.5419 - val_acc: 0.4492\n",
      "Epoch 6/100\n",
      "50000/50000 [==============================] - 17s 343us/step - loss: 1.4653 - acc: 0.4771 - val_loss: 1.5313 - val_acc: 0.4544\n",
      "Epoch 7/100\n",
      "50000/50000 [==============================] - 17s 340us/step - loss: 1.4363 - acc: 0.4881 - val_loss: 1.5021 - val_acc: 0.4627\n",
      "Epoch 8/100\n",
      "50000/50000 [==============================] - 17s 346us/step - loss: 1.4078 - acc: 0.4982 - val_loss: 1.5016 - val_acc: 0.4633\n",
      "Epoch 9/100\n",
      "50000/50000 [==============================] - 16s 319us/step - loss: 1.3780 - acc: 0.5085 - val_loss: 1.4719 - val_acc: 0.4740\n",
      "Epoch 10/100\n",
      "50000/50000 [==============================] - 17s 340us/step - loss: 1.3477 - acc: 0.5191 - val_loss: 1.4592 - val_acc: 0.4830\n",
      "Epoch 11/100\n",
      "50000/50000 [==============================] - 18s 360us/step - loss: 1.3386 - acc: 0.5221 - val_loss: 1.3831 - val_acc: 0.5113\n",
      "Epoch 12/100\n",
      "50000/50000 [==============================] - 17s 347us/step - loss: 1.3141 - acc: 0.5322 - val_loss: 1.4078 - val_acc: 0.5005\n",
      "Epoch 13/100\n",
      "50000/50000 [==============================] - 17s 344us/step - loss: 1.2772 - acc: 0.5442 - val_loss: 1.4386 - val_acc: 0.4969\n",
      "Epoch 14/100\n",
      "50000/50000 [==============================] - 18s 361us/step - loss: 1.2619 - acc: 0.5486 - val_loss: 1.4208 - val_acc: 0.4953\n",
      "Epoch 15/100\n",
      "50000/50000 [==============================] - 18s 359us/step - loss: 1.2333 - acc: 0.5604 - val_loss: 1.3876 - val_acc: 0.5095\n",
      "Epoch 16/100\n",
      "50000/50000 [==============================] - 17s 330us/step - loss: 1.2134 - acc: 0.5675 - val_loss: 1.3647 - val_acc: 0.5220\n",
      "Epoch 17/100\n",
      "50000/50000 [==============================] - 17s 340us/step - loss: 1.1914 - acc: 0.5746 - val_loss: 1.3750 - val_acc: 0.5180\n",
      "Epoch 18/100\n",
      "50000/50000 [==============================] - 17s 337us/step - loss: 1.1740 - acc: 0.5813 - val_loss: 1.3753 - val_acc: 0.5176\n",
      "Epoch 19/100\n",
      "50000/50000 [==============================] - 16s 322us/step - loss: 1.1503 - acc: 0.5899 - val_loss: 1.3601 - val_acc: 0.5271\n",
      "Epoch 20/100\n",
      "50000/50000 [==============================] - 17s 332us/step - loss: 1.1365 - acc: 0.5942 - val_loss: 1.3629 - val_acc: 0.5259\n",
      "Epoch 21/100\n",
      "50000/50000 [==============================] - 16s 328us/step - loss: 1.1012 - acc: 0.6077 - val_loss: 1.3867 - val_acc: 0.5178\n",
      "Epoch 22/100\n",
      "50000/50000 [==============================] - 16s 327us/step - loss: 1.0965 - acc: 0.6094 - val_loss: 1.3980 - val_acc: 0.5129\n",
      "Epoch 23/100\n",
      "50000/50000 [==============================] - 16s 328us/step - loss: 1.0722 - acc: 0.6178 - val_loss: 1.4039 - val_acc: 0.5194\n",
      "Epoch 24/100\n",
      "50000/50000 [==============================] - 16s 322us/step - loss: 1.0537 - acc: 0.6264 - val_loss: 1.3937 - val_acc: 0.5249\n",
      "Epoch 25/100\n",
      "50000/50000 [==============================] - 16s 326us/step - loss: 1.0325 - acc: 0.6291 - val_loss: 1.4776 - val_acc: 0.4933\n",
      "Epoch 26/100\n",
      "50000/50000 [==============================] - 16s 320us/step - loss: 1.0186 - acc: 0.6345 - val_loss: 1.4550 - val_acc: 0.5065\n",
      "Epoch 27/100\n",
      "50000/50000 [==============================] - 16s 326us/step - loss: 0.9983 - acc: 0.6430 - val_loss: 1.4370 - val_acc: 0.5151\n",
      "Epoch 28/100\n",
      "50000/50000 [==============================] - 16s 323us/step - loss: 0.9749 - acc: 0.6528 - val_loss: 1.4109 - val_acc: 0.5243\n",
      "Epoch 29/100\n",
      "50000/50000 [==============================] - 17s 336us/step - loss: 0.9644 - acc: 0.6568 - val_loss: 1.4065 - val_acc: 0.5238\n",
      "Epoch 30/100\n",
      "50000/50000 [==============================] - 16s 327us/step - loss: 0.9452 - acc: 0.6616 - val_loss: 1.4483 - val_acc: 0.5158\n",
      "Epoch 31/100\n",
      "50000/50000 [==============================] - 16s 322us/step - loss: 0.9210 - acc: 0.6723 - val_loss: 1.4730 - val_acc: 0.5187\n",
      "Epoch 32/100\n",
      "50000/50000 [==============================] - 16s 324us/step - loss: 0.9161 - acc: 0.6728 - val_loss: 1.4527 - val_acc: 0.5225\n",
      "Epoch 33/100\n",
      "50000/50000 [==============================] - 16s 326us/step - loss: 0.8914 - acc: 0.6805 - val_loss: 1.4650 - val_acc: 0.5237\n",
      "Epoch 34/100\n",
      "50000/50000 [==============================] - 16s 329us/step - loss: 0.8668 - acc: 0.6908 - val_loss: 1.5393 - val_acc: 0.5173\n",
      "Epoch 35/100\n",
      "50000/50000 [==============================] - 18s 367us/step - loss: 0.8597 - acc: 0.6941 - val_loss: 1.5364 - val_acc: 0.5108\n",
      "Epoch 36/100\n",
      "50000/50000 [==============================] - 17s 338us/step - loss: 0.8466 - acc: 0.6984 - val_loss: 1.5226 - val_acc: 0.5180\n",
      "Epoch 37/100\n",
      "50000/50000 [==============================] - 16s 322us/step - loss: 0.8390 - acc: 0.6993 - val_loss: 1.5222 - val_acc: 0.5188\n",
      "Epoch 38/100\n",
      "50000/50000 [==============================] - 17s 346us/step - loss: 0.8213 - acc: 0.7081 - val_loss: 1.5313 - val_acc: 0.5207\n",
      "Epoch 39/100\n",
      "50000/50000 [==============================] - 16s 325us/step - loss: 0.7958 - acc: 0.7159 - val_loss: 1.5654 - val_acc: 0.5128\n",
      "Epoch 40/100\n",
      "50000/50000 [==============================] - 17s 332us/step - loss: 0.7754 - acc: 0.7245 - val_loss: 1.6178 - val_acc: 0.5216\n",
      "Epoch 41/100\n",
      "50000/50000 [==============================] - 16s 319us/step - loss: 0.7692 - acc: 0.7255 - val_loss: 1.6373 - val_acc: 0.5187\n",
      "Epoch 42/100\n",
      "50000/50000 [==============================] - 16s 325us/step - loss: 0.7446 - acc: 0.7338 - val_loss: 1.6187 - val_acc: 0.5136\n",
      "Epoch 43/100\n",
      "50000/50000 [==============================] - 17s 330us/step - loss: 0.7307 - acc: 0.7387 - val_loss: 1.6737 - val_acc: 0.5091\n",
      "Epoch 44/100\n",
      "50000/50000 [==============================] - 16s 324us/step - loss: 0.7338 - acc: 0.7386 - val_loss: 1.6598 - val_acc: 0.5128\n",
      "Epoch 45/100\n",
      "50000/50000 [==============================] - 17s 341us/step - loss: 0.7126 - acc: 0.7471 - val_loss: 1.6843 - val_acc: 0.5168\n",
      "Epoch 46/100\n",
      "50000/50000 [==============================] - 18s 353us/step - loss: 0.6983 - acc: 0.7502 - val_loss: 1.7317 - val_acc: 0.5189\n",
      "Epoch 47/100\n",
      "50000/50000 [==============================] - 17s 334us/step - loss: 0.6930 - acc: 0.7519 - val_loss: 1.7135 - val_acc: 0.5140\n",
      "Epoch 48/100\n",
      "50000/50000 [==============================] - 16s 326us/step - loss: 0.6668 - acc: 0.7607 - val_loss: 1.7864 - val_acc: 0.5102\n",
      "Epoch 49/100\n",
      "50000/50000 [==============================] - 17s 334us/step - loss: 0.6574 - acc: 0.7642 - val_loss: 1.7811 - val_acc: 0.5012\n",
      "Epoch 50/100\n",
      "50000/50000 [==============================] - 16s 322us/step - loss: 0.6517 - acc: 0.7670 - val_loss: 1.8218 - val_acc: 0.5005\n",
      "Epoch 51/100\n",
      "50000/50000 [==============================] - 17s 331us/step - loss: 0.6416 - acc: 0.7707 - val_loss: 1.8664 - val_acc: 0.5113\n",
      "Epoch 52/100\n",
      "50000/50000 [==============================] - 17s 342us/step - loss: 0.6165 - acc: 0.7804 - val_loss: 1.8868 - val_acc: 0.5021\n",
      "Epoch 53/100\n",
      "50000/50000 [==============================] - 17s 344us/step - loss: 0.6062 - acc: 0.7835 - val_loss: 1.8649 - val_acc: 0.5109\n",
      "Epoch 54/100\n",
      "50000/50000 [==============================] - 19s 377us/step - loss: 0.6019 - acc: 0.7867 - val_loss: 1.8413 - val_acc: 0.5141\n",
      "Epoch 55/100\n",
      "50000/50000 [==============================] - 20s 401us/step - loss: 0.5787 - acc: 0.7932 - val_loss: 1.9599 - val_acc: 0.5021\n",
      "Epoch 56/100\n",
      "50000/50000 [==============================] - 19s 373us/step - loss: 0.5849 - acc: 0.7883 - val_loss: 1.9666 - val_acc: 0.5060\n",
      "Epoch 57/100\n",
      "50000/50000 [==============================] - 18s 356us/step - loss: 0.5685 - acc: 0.7957 - val_loss: 2.0428 - val_acc: 0.5019\n",
      "Epoch 58/100\n"
     ]
    },
    {
     "name": "stdout",
     "output_type": "stream",
     "text": [
      "50000/50000 [==============================] - 18s 370us/step - loss: 0.5590 - acc: 0.7987 - val_loss: 2.0492 - val_acc: 0.4967\n",
      "Epoch 59/100\n",
      "50000/50000 [==============================] - 18s 355us/step - loss: 0.5429 - acc: 0.8073 - val_loss: 2.0851 - val_acc: 0.5061\n",
      "Epoch 60/100\n",
      "50000/50000 [==============================] - 17s 336us/step - loss: 0.5400 - acc: 0.8096 - val_loss: 2.0263 - val_acc: 0.5068\n",
      "Epoch 61/100\n",
      "50000/50000 [==============================] - 19s 388us/step - loss: 0.5308 - acc: 0.8116 - val_loss: 2.1302 - val_acc: 0.4907\n",
      "Epoch 62/100\n",
      "50000/50000 [==============================] - 19s 373us/step - loss: 0.5174 - acc: 0.8150 - val_loss: 2.1415 - val_acc: 0.4991\n",
      "Epoch 63/100\n",
      "50000/50000 [==============================] - 20s 396us/step - loss: 0.5099 - acc: 0.8166 - val_loss: 2.2220 - val_acc: 0.4989\n",
      "Epoch 64/100\n",
      "50000/50000 [==============================] - 19s 371us/step - loss: 0.5030 - acc: 0.8218 - val_loss: 2.1733 - val_acc: 0.5073\n",
      "Epoch 65/100\n",
      "50000/50000 [==============================] - 18s 361us/step - loss: 0.5004 - acc: 0.8219 - val_loss: 2.1802 - val_acc: 0.4991\n",
      "Epoch 66/100\n",
      "50000/50000 [==============================] - 19s 370us/step - loss: 0.4773 - acc: 0.8302 - val_loss: 2.2695 - val_acc: 0.4929\n",
      "Epoch 67/100\n",
      "50000/50000 [==============================] - 17s 349us/step - loss: 0.4707 - acc: 0.8317 - val_loss: 2.2855 - val_acc: 0.5012\n",
      "Epoch 68/100\n",
      "50000/50000 [==============================] - 18s 360us/step - loss: 0.4755 - acc: 0.8299 - val_loss: 2.2645 - val_acc: 0.4978\n",
      "Epoch 69/100\n",
      "50000/50000 [==============================] - 18s 365us/step - loss: 0.4503 - acc: 0.8384 - val_loss: 2.3526 - val_acc: 0.4971\n",
      "Epoch 70/100\n",
      "50000/50000 [==============================] - 17s 338us/step - loss: 0.4508 - acc: 0.8381 - val_loss: 2.3360 - val_acc: 0.4975\n",
      "Epoch 71/100\n",
      "50000/50000 [==============================] - 17s 348us/step - loss: 0.4541 - acc: 0.8375 - val_loss: 2.3391 - val_acc: 0.5053\n",
      "Epoch 72/100\n",
      "50000/50000 [==============================] - 15s 295us/step - loss: 0.4347 - acc: 0.8442 - val_loss: 2.3804 - val_acc: 0.4985\n",
      "Epoch 73/100\n",
      "50000/50000 [==============================] - 12s 240us/step - loss: 0.4150 - acc: 0.8533 - val_loss: 2.4664 - val_acc: 0.5020\n",
      "Epoch 74/100\n",
      "50000/50000 [==============================] - 11s 229us/step - loss: 0.4263 - acc: 0.8474 - val_loss: 2.4286 - val_acc: 0.5009\n",
      "Epoch 75/100\n",
      "50000/50000 [==============================] - 12s 239us/step - loss: 0.4183 - acc: 0.8494 - val_loss: 2.5101 - val_acc: 0.4968\n",
      "Epoch 76/100\n",
      "50000/50000 [==============================] - 13s 255us/step - loss: 0.4087 - acc: 0.8531 - val_loss: 2.4806 - val_acc: 0.4951\n",
      "Epoch 77/100\n",
      "50000/50000 [==============================] - 12s 245us/step - loss: 0.3933 - acc: 0.8607 - val_loss: 2.4916 - val_acc: 0.5082\n",
      "Epoch 78/100\n",
      "50000/50000 [==============================] - 12s 232us/step - loss: 0.3914 - acc: 0.8597 - val_loss: 2.5353 - val_acc: 0.4965\n",
      "Epoch 79/100\n",
      "50000/50000 [==============================] - 12s 242us/step - loss: 0.3787 - acc: 0.8644 - val_loss: 2.5524 - val_acc: 0.4998\n",
      "Epoch 80/100\n",
      "50000/50000 [==============================] - 12s 238us/step - loss: 0.3760 - acc: 0.8650 - val_loss: 2.6759 - val_acc: 0.4970\n",
      "Epoch 81/100\n",
      "50000/50000 [==============================] - 11s 229us/step - loss: 0.3819 - acc: 0.8619 - val_loss: 2.6122 - val_acc: 0.4978\n",
      "Epoch 82/100\n",
      "50000/50000 [==============================] - 15s 305us/step - loss: 0.3603 - acc: 0.8720 - val_loss: 2.6345 - val_acc: 0.5042\n",
      "Epoch 83/100\n",
      "50000/50000 [==============================] - 13s 266us/step - loss: 0.3721 - acc: 0.8653 - val_loss: 2.5880 - val_acc: 0.5069\n",
      "Epoch 84/100\n",
      "50000/50000 [==============================] - 12s 234us/step - loss: 0.3868 - acc: 0.8613 - val_loss: 2.7283 - val_acc: 0.4948\n",
      "Epoch 85/100\n",
      "50000/50000 [==============================] - 12s 237us/step - loss: 0.3550 - acc: 0.8731 - val_loss: 2.7121 - val_acc: 0.4934\n",
      "Epoch 86/100\n",
      "50000/50000 [==============================] - 13s 253us/step - loss: 0.3303 - acc: 0.8825 - val_loss: 2.7210 - val_acc: 0.4957\n",
      "Epoch 87/100\n",
      "50000/50000 [==============================] - 12s 246us/step - loss: 0.3461 - acc: 0.8754 - val_loss: 2.7740 - val_acc: 0.4982\n",
      "Epoch 88/100\n",
      "50000/50000 [==============================] - 12s 235us/step - loss: 0.3291 - acc: 0.8817 - val_loss: 2.7542 - val_acc: 0.4960\n",
      "Epoch 89/100\n",
      "50000/50000 [==============================] - 12s 236us/step - loss: 0.3621 - acc: 0.8702 - val_loss: 2.8038 - val_acc: 0.4931\n",
      "Epoch 90/100\n",
      "50000/50000 [==============================] - 12s 244us/step - loss: 0.3319 - acc: 0.8803 - val_loss: 2.8730 - val_acc: 0.5069\n",
      "Epoch 91/100\n",
      "50000/50000 [==============================] - 12s 231us/step - loss: 0.3150 - acc: 0.8872 - val_loss: 2.9366 - val_acc: 0.4925\n",
      "Epoch 92/100\n",
      "50000/50000 [==============================] - 12s 242us/step - loss: 0.3382 - acc: 0.8797 - val_loss: 2.9181 - val_acc: 0.4996\n",
      "Epoch 93/100\n",
      "50000/50000 [==============================] - 11s 218us/step - loss: 0.3502 - acc: 0.8720 - val_loss: 2.9403 - val_acc: 0.4989\n",
      "Epoch 94/100\n",
      "50000/50000 [==============================] - 11s 218us/step - loss: 0.2874 - acc: 0.8974 - val_loss: 3.0027 - val_acc: 0.4977\n",
      "Epoch 95/100\n",
      "50000/50000 [==============================] - 11s 220us/step - loss: 0.3087 - acc: 0.8899 - val_loss: 2.9844 - val_acc: 0.4974\n",
      "Epoch 96/100\n",
      "50000/50000 [==============================] - 12s 237us/step - loss: 0.3051 - acc: 0.8904 - val_loss: 3.0238 - val_acc: 0.4911\n",
      "Epoch 97/100\n",
      "50000/50000 [==============================] - 12s 247us/step - loss: 0.2884 - acc: 0.8966 - val_loss: 2.9552 - val_acc: 0.5050\n",
      "Epoch 98/100\n",
      "50000/50000 [==============================] - 12s 247us/step - loss: 0.2834 - acc: 0.8980 - val_loss: 3.0505 - val_acc: 0.4975\n",
      "Epoch 99/100\n",
      "50000/50000 [==============================] - 12s 239us/step - loss: 0.3164 - acc: 0.8850 - val_loss: 3.0976 - val_acc: 0.5028\n",
      "Epoch 100/100\n",
      "50000/50000 [==============================] - 12s 244us/step - loss: 0.2884 - acc: 0.8959 - val_loss: 3.1250 - val_acc: 0.4957\n"
     ]
    },
    {
     "data": {
      "text/plain": [
       "<keras.callbacks.History at 0x22e80330748>"
      ]
     },
     "execution_count": 10,
     "metadata": {},
     "output_type": "execute_result"
    }
   ],
   "source": [
    "model.fit(x_train, y_train, \n",
    "          epochs=EPOCHS, \n",
    "          batch_size=BATCH_SIZE, \n",
    "          validation_data=(x_test, y_test), \n",
    "          shuffle=True)"
   ]
  },
  {
   "cell_type": "code",
   "execution_count": 12,
   "metadata": {},
   "outputs": [
    {
     "data": {
      "image/png": "[encoded data removed]",
      "text/plain": [
       "<Figure size 432x288 with 1 Axes>"
      ]
     },
     "metadata": {
      "needs_background": "light"
     },
     "output_type": "display_data"
    },
    {
     "data": {
      "image/png": "[encoded data removed]",
      "text/plain": [
       "<Figure size 432x288 with 1 Axes>"
      ]
     },
     "metadata": {
      "needs_background": "light"
     },
     "output_type": "display_data"
    }
   ],
   "source": [
    "import matplotlib.pyplot as plt\n",
    "\n",
    "\n",
    "train_loss = model.history.history[\"loss\"]\n",
    "valid_loss = model.history.history[\"val_loss\"]\n",
    "\n",
    "train_acc = model.history.history[\"acc\"]\n",
    "valid_acc = model.history.history[\"val_acc\"]\n",
    "\n",
    "plt.plot(range(len(train_loss)), train_loss, label=\"train loss\")\n",
    "plt.plot(range(len(valid_loss)), valid_loss, label=\"valid loss\")\n",
    "plt.legend()\n",
    "plt.title(\"Loss\")\n",
    "plt.show()\n",
    "\n",
    "plt.plot(range(len(train_acc)), train_acc, label=\"train accuracy\")\n",
    "plt.plot(range(len(valid_acc)), valid_acc, label=\"valid accuracy\")\n",
    "plt.legend()\n",
    "plt.title(\"Accuracy\")\n",
    "plt.show()"
   ]
  }
 ],
 "metadata": {
  "kernelspec": {
   "display_name": "Python 3",
   "language": "python",
   "name": "python3"
  },
  "language_info": {
   "codemirror_mode": {
    "name": "ipython",
    "version": 3
   },
   "file_extension": ".py",
   "mimetype": "text/x-python",
   "name": "python",
   "nbconvert_exporter": "python",
   "pygments_lexer": "ipython3",
   "version": "3.7.3"
  }
 },
 "nbformat": 4,
 "nbformat_minor": 2
}
